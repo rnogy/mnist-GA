{
  "nbformat": 4,
  "nbformat_minor": 0,
  "metadata": {
    "colab": {
      "name": "Copy of kerasGA.ipynb",
      "provenance": [],
      "collapsed_sections": []
    },
    "kernelspec": {
      "display_name": "Python 3",
      "language": "python",
      "name": "python3"
    },
    "language_info": {
      "codemirror_mode": {
        "name": "ipython",
        "version": 3
      },
      "file_extension": ".py",
      "mimetype": "text/x-python",
      "name": "python",
      "nbconvert_exporter": "python",
      "pygments_lexer": "ipython3",
      "version": "3.8.3"
    }
  },
  "cells": [
    {
      "cell_type": "code",
      "metadata": {
        "colab": {
          "base_uri": "https://localhost:8080/"
        },
        "id": "8lqbeWAze76Q",
        "outputId": "b3a1293d-7c66-4d33-87a3-f987dfc5d9b8"
      },
      "source": [
        "!pip install pygad"
      ],
      "execution_count": null,
      "outputs": [
        {
          "name": "stdout",
          "output_type": "stream",
          "text": [
            "Requirement already satisfied: pygad in /usr/local/lib/python3.7/dist-packages (2.16.1)\n",
            "Requirement already satisfied: matplotlib in /usr/local/lib/python3.7/dist-packages (from pygad) (3.2.2)\n",
            "Requirement already satisfied: numpy in /usr/local/lib/python3.7/dist-packages (from pygad) (1.19.5)\n",
            "Requirement already satisfied: cycler>=0.10 in /usr/local/lib/python3.7/dist-packages (from matplotlib->pygad) (0.10.0)\n",
            "Requirement already satisfied: pyparsing!=2.0.4,!=2.1.2,!=2.1.6,>=2.0.1 in /usr/local/lib/python3.7/dist-packages (from matplotlib->pygad) (2.4.7)\n",
            "Requirement already satisfied: kiwisolver>=1.0.1 in /usr/local/lib/python3.7/dist-packages (from matplotlib->pygad) (1.3.2)\n",
            "Requirement already satisfied: python-dateutil>=2.1 in /usr/local/lib/python3.7/dist-packages (from matplotlib->pygad) (2.8.2)\n",
            "Requirement already satisfied: six in /usr/local/lib/python3.7/dist-packages (from cycler>=0.10->matplotlib->pygad) (1.15.0)\n"
          ]
        }
      ]
    },
    {
      "cell_type": "markdown",
      "metadata": {
        "id": "Wu_yNfc2kEBP"
      },
      "source": [
        "model inspired and modified from http://uhurumkate.blogspot.com/2018/06/tiny-model-for-mnist-dataset.html"
      ]
    },
    {
      "cell_type": "code",
      "metadata": {
        "id": "i5L3JMNgS-L0"
      },
      "source": [
        "from tensorflow.keras import losses, datasets, layers, optimizers, Sequential, metrics\n",
        "import tensorflow as tf\n",
        "import tensorflow.keras\n",
        "import pygad.kerasga\n",
        "import numpy\n",
        "import pygad"
      ],
      "execution_count": null,
      "outputs": []
    },
    {
      "cell_type": "code",
      "metadata": {
        "id": "JGFxRvr3eWGX"
      },
      "source": [
        "numpy.random.seed(123)\n",
        "acc_meter = tf.keras.metrics.Accuracy()\n",
        "sgd_like = False"
      ],
      "execution_count": null,
      "outputs": []
    },
    {
      "cell_type": "markdown",
      "metadata": {
        "id": "Mm_Hl7BAgrzv"
      },
      "source": [
        "# dataset"
      ]
    },
    {
      "cell_type": "code",
      "metadata": {
        "id": "8Rkq5w4dequA"
      },
      "source": [
        "#load mnist dataset\n",
        "(X_train, y_train), (X_test, y_test) = datasets.mnist.load_data()\n",
        "#normalize data\n",
        "X_train = 2*tf.convert_to_tensor(X_train, tf.float32)/255.-1\n",
        "#[b, 28, 28] -> [b, 28, 28, 1]\n",
        "X_train = tf.reshape(X_train, (-1, 28,28,1))\n",
        "X_test = 2*tf.convert_to_tensor(X_test, tf.float32)/255.-1\n",
        "X_test = tf.reshape(X_test, (-1, 28,28,1))\n",
        "y_train = tf.convert_to_tensor(y_train, tf.int32)\n",
        "#[b] -> [b, 10]\n",
        "y_train = tf.one_hot(y_train, 10)\n",
        "y_test = tf.convert_to_tensor(y_test, tf.int32)\n",
        "y_test = tf.one_hot(y_test, 10)"
      ],
      "execution_count": null,
      "outputs": []
    },
    {
      "cell_type": "markdown",
      "metadata": {
        "id": "tGsLcsClp1P6"
      },
      "source": [
        "# Model"
      ]
    },
    {
      "cell_type": "markdown",
      "metadata": {
        "id": "mYvgt7ULiR5L"
      },
      "source": [
        "We want a very small model for the increase in param will increase the cycles GA needs to run </ba>\n",
        "Model parameter = 1810 with acc ~ 96% on both train/testing sets"
      ]
    },
    {
      "cell_type": "code",
      "metadata": {
        "colab": {
          "base_uri": "https://localhost:8080/"
        },
        "id": "dW1AXe0zci0T",
        "outputId": "060845b2-7c92-44ce-8d5f-ec4c976f58d7"
      },
      "source": [
        "model = Sequential([\n",
        "#input layer\n",
        "layers.Convolution2D(15, (3, 3), activation='relu', input_shape=(28,28,1)),\n",
        "layers.BatchNormalization(momentum=0.1),\n",
        "layers.Dropout(0.1),\n",
        "layers.AveragePooling2D(2),\n",
        "#convo layers1\n",
        "layers.Convolution2D(10,(1,1), activation='relu'),\n",
        "layers.BatchNormalization(momentum=0.1),\n",
        "layers.Dropout(0.1),\n",
        "#convo layers2\n",
        "layers.AveragePooling2D(2),\n",
        "layers.Convolution2D(5,(3,3), activation='relu'),\n",
        "layers.BatchNormalization(momentum=0.1),\n",
        "layers.Dropout(0.1),\n",
        "#convo layers3\n",
        "layers.Convolution2D(10,(1,1), activation='relu'),\n",
        "layers.Dropout(0.1),\n",
        "#fully connected layers\n",
        "layers.Dense(5, activation='relu'),\n",
        "layers.Flatten(),\n",
        "#output layer\n",
        "layers.Dense(10, activation='softmax')\n",
        "])\n",
        "\n",
        "model.summary()"
      ],
      "execution_count": null,
      "outputs": [
        {
          "name": "stdout",
          "output_type": "stream",
          "text": [
            "Model: \"sequential\"\n",
            "_________________________________________________________________\n",
            "Layer (type)                 Output Shape              Param #   \n",
            "=================================================================\n",
            "conv2d (Conv2D)              (None, 26, 26, 15)        150       \n",
            "_________________________________________________________________\n",
            "batch_normalization (BatchNo (None, 26, 26, 15)        60        \n",
            "_________________________________________________________________\n",
            "dropout (Dropout)            (None, 26, 26, 15)        0         \n",
            "_________________________________________________________________\n",
            "average_pooling2d (AveragePo (None, 13, 13, 15)        0         \n",
            "_________________________________________________________________\n",
            "conv2d_1 (Conv2D)            (None, 13, 13, 10)        160       \n",
            "_________________________________________________________________\n",
            "batch_normalization_1 (Batch (None, 13, 13, 10)        40        \n",
            "_________________________________________________________________\n",
            "dropout_1 (Dropout)          (None, 13, 13, 10)        0         \n",
            "_________________________________________________________________\n",
            "average_pooling2d_1 (Average (None, 6, 6, 10)          0         \n",
            "_________________________________________________________________\n",
            "conv2d_2 (Conv2D)            (None, 4, 4, 5)           455       \n",
            "_________________________________________________________________\n",
            "batch_normalization_2 (Batch (None, 4, 4, 5)           20        \n",
            "_________________________________________________________________\n",
            "dropout_2 (Dropout)          (None, 4, 4, 5)           0         \n",
            "_________________________________________________________________\n",
            "conv2d_3 (Conv2D)            (None, 4, 4, 10)          60        \n",
            "_________________________________________________________________\n",
            "dropout_3 (Dropout)          (None, 4, 4, 10)          0         \n",
            "_________________________________________________________________\n",
            "dense (Dense)                (None, 4, 4, 5)           55        \n",
            "_________________________________________________________________\n",
            "flatten (Flatten)            (None, 80)                0         \n",
            "_________________________________________________________________\n",
            "dense_1 (Dense)              (None, 10)                810       \n",
            "=================================================================\n",
            "Total params: 1,810\n",
            "Trainable params: 1,750\n",
            "Non-trainable params: 60\n",
            "_________________________________________________________________\n"
          ]
        }
      ]
    },
    {
      "cell_type": "code",
      "metadata": {
        "id": "uy2Zi5Wdip3p"
      },
      "source": [
        "model.compile(loss='categorical_crossentropy',\n",
        "              optimizer='adam',\n",
        "              metrics=['accuracy']\n",
        "              )\n",
        "\n",
        "#model.fit(X_train, y_train, \n",
        "#          batch_size=8, verbose=1,shuffle=True,\n",
        "#          validation_data=(X_test, y_test))"
      ],
      "execution_count": null,
      "outputs": []
    },
    {
      "cell_type": "markdown",
      "metadata": {
        "id": "YV6R1V52ptP7"
      },
      "source": [
        "Network accuracy and error"
      ]
    },
    {
      "cell_type": "code",
      "metadata": {
        "colab": {
          "base_uri": "https://localhost:8080/"
        },
        "id": "SSVRcjVijtHY",
        "outputId": "3a2c3922-e8f1-47c1-98f1-94256e43e86d"
      },
      "source": [
        "acc_meter.update_state(tf.argmax(model.predict(X_test), axis=1), tf.argmax(y_test, axis=1))\n",
        "print(\"Accuracy on testing set:{acc}%\".format(acc=acc_meter.result().numpy()*100))\n",
        "print(\"Error rate on testing set:{err}%\".format(err=(1-acc_meter.result().numpy())*100))\n",
        "acc_meter.update_state(tf.argmax(model.predict(X_train), axis=1), tf.argmax(y_train, axis=1))\n",
        "print(\"Accuracy on training set:{acc}%\".format(acc=acc_meter.result().numpy()*100))\n",
        "print(\"Error rate on training set:{err}%\".format(err=(1-acc_meter.result().numpy())*100))"
      ],
      "execution_count": null,
      "outputs": [
        {
          "name": "stdout",
          "output_type": "stream",
          "text": [
            "Accuracy on testing set:7.410000264644623%\n",
            "Error rate on testing set:92.58999973535538%\n",
            "Accuracy on training set:6.5785713493824005%\n",
            "Error rate on training set:93.4214286506176%\n"
          ]
        }
      ]
    },
    {
      "cell_type": "markdown",
      "metadata": {
        "id": "1ptOJ9miprDS"
      },
      "source": [
        "loss"
      ]
    },
    {
      "cell_type": "code",
      "metadata": {
        "id": "V_omnjFA5lOh"
      },
      "source": [
        "#cce = tf.keras.losses.CategoricalCrossentropy()\n",
        "#cce(y_train, model.predict(X_train))"
      ],
      "execution_count": null,
      "outputs": []
    },
    {
      "cell_type": "markdown",
      "metadata": {
        "id": "kYoIXfZjp4kJ"
      },
      "source": [
        "Perpare batches if we were doing SGD-like method. <br>\n",
        "Some data are removed if size of dataset / batch_size is not an integer"
      ]
    },
    {
      "cell_type": "code",
      "metadata": {
        "id": "_V7t28kieeVR"
      },
      "source": [
        "if sgd_like == True:\n",
        "  batch_size = 31\n",
        "  if len(X_train) % batch_size == 0:\n",
        "    X_train = tf.reshape(X_train, [-1, batch_size, 28, 28, 1])\n",
        "    y_train = tf.reshape(y_train, [-1, batch_size, 10])\n",
        "  else:\n",
        "    len_remove = len(X_train) % batch_size\n",
        "    X_train = tf.reshape(X_train[:-len_remove], [-1, batch_size, 28, 28, 1])\n",
        "    y_train = tf.reshape(y_train[:-len_remove], [-1, batch_size, 10])"
      ],
      "execution_count": null,
      "outputs": []
    },
    {
      "cell_type": "markdown",
      "metadata": {
        "id": "zdZ1owxPPsRn"
      },
      "source": [
        "# Hyper param"
      ]
    },
    {
      "cell_type": "code",
      "metadata": {
        "id": "hl1q_FZnfTG1"
      },
      "source": [
        "num_generations = 120 # Number of generations.\n",
        "\n",
        "epoch = 6\n",
        "num_solution=10\n",
        "num_parents_mating = int(num_solution * .7)\n",
        "parent_selection_type = \"sss\"\n",
        "crossover_type = \"uniform\"\n",
        "mutation_type=\"adaptive\"\n",
        "mutation_num_genes=(90, 80)\n",
        "keep_parents = 3"
      ],
      "execution_count": null,
      "outputs": []
    },
    {
      "cell_type": "markdown",
      "metadata": {
        "id": "ROmBNKL2Pw2u"
      },
      "source": [
        "# Fitness "
      ]
    },
    {
      "cell_type": "code",
      "metadata": {
        "id": "c1Q4nna4YeCz"
      },
      "source": [
        "#we don't need one-hot to train. To compute tf.argmax each loop is a waste of resources\n",
        "y_train = tf.argmax(y_train, axis=1)"
      ],
      "execution_count": null,
      "outputs": []
    },
    {
      "cell_type": "code",
      "metadata": {
        "id": "CuGqTK0NeeVR"
      },
      "source": [
        "i = 0\n",
        "cycles_stucked = 0\n",
        "k=0\n",
        "def fitness_func(solution, sol_idx):\n",
        "\n",
        "    global keras_ga, model, i, cycles_stucked ,X_train, y_train, k\n",
        "    solution_fitness = 0\n",
        "    model_weights_matrix = pygad.kerasga.model_weights_as_matrix(model=model,\n",
        "                                                                 weights_vector=solution)\n",
        "\n",
        "    model.set_weights(weights=model_weights_matrix)\n",
        "\n",
        "    #solution_fitness = 1/cce(model.predict(X_train), y_train).numpy()\n",
        "    \n",
        "    if sgd_like == True:\n",
        "      if i % (1 * epoch) == 0:\n",
        "          #select random data from reshaped dataset to train\n",
        "          k = numpy.random.randint(0, len(X_train)-1)\n",
        "          #update acc_meter\n",
        "          acc_meter.update_state(tf.argmax(model.predict(X_train[k]), axis=1), y_train[k])\n",
        "          solution_fitness = acc_meter.result().numpy() * 100\n",
        "          acc_meter.reset_states()\n",
        "    else:\n",
        "        acc_meter.update_state(tf.argmax(model.predict(X_train), axis=1), y_train)\n",
        "        solution_fitness = acc_meter.result().numpy() * 100\n",
        "        acc_meter.reset_states()\n",
        "    return solution_fitness"
      ],
      "execution_count": null,
      "outputs": []
    },
    {
      "cell_type": "code",
      "metadata": {
        "colab": {
          "background_save": true,
          "base_uri": "https://localhost:8080/"
        },
        "id": "u0e-_WFceeVS",
        "outputId": "f3ad5092-5e80-48c5-87e5-d5d29c1156c7"
      },
      "source": [
        "def callback_generation(ga_instance):\n",
        "    global i, cycles_stucked,k\n",
        "#    print(tf.argmax(y_train[k], axis=1))\n",
        "    print(\"Generation = {generation}\".format(generation=ga_instance.generations_completed))\n",
        "    print(\"Fitness    = {fitness}\".format(fitness=ga_instance.best_solution()[1]))\n",
        "    i += 1\n",
        "    tmp = ga_instance.best_solution()[1]\n",
        "    if cycles_stucked == tmp:\n",
        "      cycles_stucked += 1\n",
        "    else:\n",
        "      cycles_stucked = 0\n",
        "#    print(\"Actual: {actual}\".format(actual=tf.argmax(y, 1).numpy()))\n",
        "#    print(\"Predicted: {pred}\".format(pred=tf.argmax(model.predict(x), 1).numpy()))\n",
        "\n",
        "keras_ga = pygad.kerasga.KerasGA(model=model,\n",
        "                                 num_solutions=num_solution)\n",
        "\n",
        "\n",
        "# Prepare the PyGAD parameters. Check the documentation for more information: https://pygad.readthedocs.io/en/latest/README_pygad_ReadTheDocs.html#pygad-ga-class\n",
        "# Use the pre-existing model weight as init population. \n",
        "initial_population = numpy.tile(pygad.kerasga.model_weights_as_vector(model), (num_solution, 1))\n",
        "\n",
        "\n",
        "ga_instance = pygad.GA(num_generations=num_generations,\n",
        "                       num_parents_mating=num_parents_mating,\n",
        "                       initial_population=initial_population,\n",
        "                       fitness_func=fitness_func,\n",
        "                       keep_parents=keep_parents,\n",
        "                       mutation_type=mutation_type,\n",
        "                       parent_selection_type=parent_selection_type,\n",
        "                       crossover_type=crossover_type,\n",
        "                       mutation_num_genes=mutation_num_genes,\n",
        "                       on_generation=callback_generation)\n",
        "\n",
        "ga_instance.run()"
      ],
      "execution_count": null,
      "outputs": [
        {
          "name": "stdout",
          "output_type": "stream",
          "text": [
            "Generation = 1\n",
            "Fitness    = 13.535000383853912\n",
            "Generation = 2\n",
            "Fitness    = 10.118333250284195\n",
            "Generation = 3\n",
            "Fitness    = 13.535000383853912\n",
            "Generation = 4\n",
            "Fitness    = 13.535000383853912\n",
            "Generation = 5\n",
            "Fitness    = 15.681666135787964\n",
            "Generation = 6\n",
            "Fitness    = 15.681666135787964\n",
            "Generation = 7\n",
            "Fitness    = 15.681666135787964\n",
            "Generation = 8\n",
            "Fitness    = 15.681666135787964\n",
            "Generation = 9\n",
            "Fitness    = 15.681666135787964\n",
            "Generation = 10\n",
            "Fitness    = 15.681666135787964\n",
            "Generation = 11\n",
            "Fitness    = 15.985000133514404\n",
            "Generation = 12\n",
            "Fitness    = 15.985000133514404\n"
          ]
        }
      ]
    },
    {
      "cell_type": "code",
      "metadata": {
        "id": "gKFLa_wLeeVT"
      },
      "source": [
        "\n",
        "# After the generations complete, some plots are showed that summarize how the outputs/fitness values evolve over generations.\n",
        "ga_instance.plot_fitness(title=\"PyGAD & Keras - Iteration vs. Fitness\", linewidth=4)\n",
        "\n",
        "# Returning the details of the best solution.\n",
        "solution, solution_fitness, solution_idx = ga_instance.best_solution()\n",
        "print(\"Fitness value of the best solution = {solution_fitness}\".format(solution_fitness=solution_fitness))\n",
        "print(\"Index of the best solution : {solution_idx}\".format(solution_idx=solution_idx))\n",
        "\n",
        "# Fetch the parameters of the best solution.\n",
        "best_solution_weights = pygad.kerasga.model_weights_as_matrix(model=model,\n",
        "                                                              weights_vector=solution)\n",
        "model.set_weights(best_solution_weights)\n",
        "\n",
        "acc_meter.update_state(tf.argmax(model.predict(X_test), axis=1), tf.argmax(y_test, axis=1))\n",
        "print(\"Accuracy on testing set:{acc}%\".format(acc=acc_meter.result().numpy()*100))\n",
        "print(\"Error rate on testing set:{err}%\".format(err=(1-acc_meter.result().numpy())*100))\n",
        "\n",
        "acc_meter.update_state(tf.argmax(model.predict(X_train), axis=1), tf.argmax(y_train, axis=1))\n",
        "print(\"Accuracy on training set:{acc}%\".format(acc=acc_meter.result().numpy()*100))\n",
        "print(\"Error rate on training set:{err}%\".format(err=(1-acc_meter.result().numpy())*100))\n"
      ],
      "execution_count": null,
      "outputs": []
    }
  ]
}
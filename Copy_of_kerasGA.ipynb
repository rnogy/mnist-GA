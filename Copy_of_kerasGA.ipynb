{
 "cells": [
  {
   "cell_type": "code",
   "execution_count": 1,
   "metadata": {
    "id": "8lqbeWAze76Q",
    "scrolled": true
   },
   "outputs": [],
   "source": [
    "#!pip install pygad"
   ]
  },
  {
   "cell_type": "markdown",
   "metadata": {
    "id": "Wu_yNfc2kEBP"
   },
   "source": [
    "Modified version of pygad samples. https://pygad.readthedocs.io/en/latest/README_pygad_ReadTheDocs.html#life-cycle-of-pygad <br>\n",
    "Model inspired and modified from http://uhurumkate.blogspot.com/2018/06/tiny-model-for-mnist-dataset.html"
   ]
  },
  {
   "cell_type": "markdown",
   "metadata": {
    "id": "-N1PbHsWQWlW"
   },
   "source": [
    "You're highly encouraged to use a GPU as it's going to spent most resources on predicting and calculating acc. Please also note that pygad library only use CPU paralleal in some cases."
   ]
  },
  {
   "cell_type": "markdown",
   "metadata": {
    "id": "gXxmJd3ai2yd"
   },
   "source": [
    "The highest acc was achieved with everything set to False, and with 23 hours of training. 500 cycles and 58% acc"
   ]
  },
  {
   "cell_type": "code",
   "execution_count": 2,
   "metadata": {
    "id": "i5L3JMNgS-L0"
   },
   "outputs": [],
   "source": [
    "import tensorflow as tf\n",
    "import tensorflow.keras\n",
    "from tensorflow.keras import losses, datasets, layers, optimizers, Sequential, metrics\n",
    "import pygad.kerasga\n",
    "import numpy\n",
    "import math\n",
    "import pygad"
   ]
  },
  {
   "cell_type": "markdown",
   "metadata": {
    "id": "zdZ1owxPPsRn"
   },
   "source": [
    "# Hyper param"
   ]
  },
  {
   "cell_type": "code",
   "execution_count": 3,
   "metadata": {
    "id": "JGFxRvr3eWGX"
   },
   "outputs": [
    {
     "name": "stderr",
     "output_type": "stream",
     "text": [
      "2021-12-08 19:20:45.172742: I tensorflow/stream_executor/cuda/cuda_gpu_executor.cc:923] could not open file to read NUMA node: /sys/bus/pci/devices/0000:01:00.0/numa_node\n",
      "Your kernel may have been built without NUMA support.\n",
      "2021-12-08 19:20:45.227500: I tensorflow/stream_executor/cuda/cuda_gpu_executor.cc:923] could not open file to read NUMA node: /sys/bus/pci/devices/0000:01:00.0/numa_node\n",
      "Your kernel may have been built without NUMA support.\n",
      "2021-12-08 19:20:45.228122: I tensorflow/stream_executor/cuda/cuda_gpu_executor.cc:923] could not open file to read NUMA node: /sys/bus/pci/devices/0000:01:00.0/numa_node\n",
      "Your kernel may have been built without NUMA support.\n",
      "2021-12-08 19:20:45.229153: I tensorflow/core/platform/cpu_feature_guard.cc:142] This TensorFlow binary is optimized with oneAPI Deep Neural Network Library (oneDNN) to use the following CPU instructions in performance-critical operations:  SSE3 SSE4.1 SSE4.2 AVX AVX2 FMA\n",
      "To enable them in other operations, rebuild TensorFlow with the appropriate compiler flags.\n",
      "2021-12-08 19:20:45.231117: I tensorflow/stream_executor/cuda/cuda_gpu_executor.cc:923] could not open file to read NUMA node: /sys/bus/pci/devices/0000:01:00.0/numa_node\n",
      "Your kernel may have been built without NUMA support.\n",
      "2021-12-08 19:20:45.231635: I tensorflow/stream_executor/cuda/cuda_gpu_executor.cc:923] could not open file to read NUMA node: /sys/bus/pci/devices/0000:01:00.0/numa_node\n",
      "Your kernel may have been built without NUMA support.\n",
      "2021-12-08 19:20:45.232097: I tensorflow/stream_executor/cuda/cuda_gpu_executor.cc:923] could not open file to read NUMA node: /sys/bus/pci/devices/0000:01:00.0/numa_node\n",
      "Your kernel may have been built without NUMA support.\n",
      "2021-12-08 19:20:46.049343: I tensorflow/stream_executor/cuda/cuda_gpu_executor.cc:923] could not open file to read NUMA node: /sys/bus/pci/devices/0000:01:00.0/numa_node\n",
      "Your kernel may have been built without NUMA support.\n",
      "2021-12-08 19:20:46.049967: I tensorflow/stream_executor/cuda/cuda_gpu_executor.cc:923] could not open file to read NUMA node: /sys/bus/pci/devices/0000:01:00.0/numa_node\n",
      "Your kernel may have been built without NUMA support.\n",
      "2021-12-08 19:20:46.050071: I tensorflow/core/common_runtime/gpu/gpu_device.cc:1594] Could not identify NUMA node of platform GPU id 0, defaulting to 0.  Your kernel may not have been built with NUMA support.\n",
      "2021-12-08 19:20:46.050419: I tensorflow/stream_executor/cuda/cuda_gpu_executor.cc:923] could not open file to read NUMA node: /sys/bus/pci/devices/0000:01:00.0/numa_node\n",
      "Your kernel may have been built without NUMA support.\n",
      "2021-12-08 19:20:46.050543: I tensorflow/core/common_runtime/gpu/gpu_device.cc:1510] Created device /job:localhost/replica:0/task:0/device:GPU:0 with 5980 MB memory:  -> device: 0, name: NVIDIA GeForce RTX 2060 SUPER, pci bus id: 0000:01:00.0, compute capability: 7.5\n"
     ]
    }
   ],
   "source": [
    "acc_meter = tf.keras.metrics.Accuracy()\n",
    "\n",
    "#Instead of training a entire dataset, do small batches.\n",
    "sgd_like = True\n",
    "\n",
    "#introduce new population when stucked. Often time it'll stuck in local optima.\n",
    "introduce_new_pop = False\n",
    "\n",
    "#increase batch size when stcuked.\n",
    "dynamic_batch_size = True\n",
    "\n",
    "#reshuffle\n",
    "reshuffle = True"
   ]
  },
  {
   "cell_type": "code",
   "execution_count": 4,
   "metadata": {
    "id": "hl1q_FZnfTG1"
   },
   "outputs": [],
   "source": [
    "#num cycles\n",
    "num_generations = 5000\n",
    "\n",
    "#num soltions\n",
    "num_solution= 24\n",
    "\n",
    "#the following two param only works if introduce_new_pop = True\n",
    "#Maxium cycles stuck before introducing new population to the pool.\n",
    "max_cycles_stucked = 20\n",
    "\n",
    "#The follow two param have effect only when sgd_like = True\n",
    "#number of cycles you want on a single batch. \n",
    "epoch = 10\n",
    "#number of samples per batch\n",
    "batch_size = 9000\n",
    "\n",
    "#number batch increase feed into prediction. only have effect if sgd_like = True\n",
    "#Ex. batch size 1500 -> 1500 + 500 = 2000. Note that some data will be lose during the process\n",
    "batch_increase = 1024\n",
    "\n",
    "#reshuffle every n cycles\n",
    "reshuffle_per = (int(60000/batch_size) -1) * epoch #so that it's insync with epoch\n",
    "\n",
    "decay = 600\n",
    "\n",
    "#Typical pygad params\n",
    "num_parents_mating = int(num_solution * .5) #half parents mating\n",
    "parent_selection_type = \"sss\"\n",
    "mutation_type=\"adaptive\"\n",
    "mutation_lower = 80\n",
    "mutation_num_genes=(90, mutation_lower)\n",
    "keep_parents = 0"
   ]
  },
  {
   "cell_type": "markdown",
   "metadata": {
    "id": "Mm_Hl7BAgrzv"
   },
   "source": [
    "# dataset"
   ]
  },
  {
   "cell_type": "code",
   "execution_count": 5,
   "metadata": {
    "id": "8Rkq5w4dequA"
   },
   "outputs": [],
   "source": [
    "#load mnist dataset\n",
    "(X_train, y_train), (X_test, y_test) = datasets.mnist.load_data()\n",
    "#normalize data\n",
    "X_train = 2*tf.convert_to_tensor(X_train, tf.float32)/255.-1\n",
    "#[b, 28, 28] -> [b, 28, 28, 1]\n",
    "X_train = tf.reshape(X_train, (-1, 28,28,1))\n",
    "X_test = 2*tf.convert_to_tensor(X_test, tf.float32)/255.-1\n",
    "X_test = tf.reshape(X_test, (-1, 28,28,1))\n",
    "y_train = tf.convert_to_tensor(y_train, tf.int32)\n",
    "#[b] -> [b, 10]\n",
    "y_train = tf.one_hot(y_train, 10)\n",
    "y_test = tf.convert_to_tensor(y_test, tf.int32)\n",
    "y_test = tf.one_hot(y_test, 10)"
   ]
  },
  {
   "cell_type": "markdown",
   "metadata": {
    "id": "tGsLcsClp1P6"
   },
   "source": [
    "# Model"
   ]
  },
  {
   "cell_type": "markdown",
   "metadata": {
    "id": "mYvgt7ULiR5L"
   },
   "source": [
    "We want a very small model for the increase in param will increase the cycles GA needs to run </ba>\n",
    "Model parameter = 2665 with acc ~ 96% on both train/testing sets (trained with triditional method).<br>\n",
    "EDIT: <br>\n",
    " I relized that the model **DO** have impact. For example, when l`ayers.Dense(3, activation='relu')`, you'll have 1.8k param. You might think it'll be easier for the model to converge. Yet, `layers.Dense(10, activation='relu')` is faster. `layers.Dense(20, activation='relu')` is even better with 4.5k param. This indicates we don't need a small model, but a GOOD model (define good)."
   ]
  },
  {
   "cell_type": "code",
   "execution_count": 6,
   "metadata": {
    "colab": {
     "base_uri": "https://localhost:8080/"
    },
    "id": "dW1AXe0zci0T",
    "outputId": "448e58d6-d081-4957-d126-ac6e056b422a"
   },
   "outputs": [
    {
     "name": "stdout",
     "output_type": "stream",
     "text": [
      "Model: \"sequential\"\n",
      "_________________________________________________________________\n",
      "Layer (type)                 Output Shape              Param #   \n",
      "=================================================================\n",
      "conv2d (Conv2D)              (None, 26, 26, 15)        150       \n",
      "_________________________________________________________________\n",
      "batch_normalization (BatchNo (None, 26, 26, 15)        60        \n",
      "_________________________________________________________________\n",
      "dropout (Dropout)            (None, 26, 26, 15)        0         \n",
      "_________________________________________________________________\n",
      "average_pooling2d (AveragePo (None, 13, 13, 15)        0         \n",
      "_________________________________________________________________\n",
      "conv2d_1 (Conv2D)            (None, 13, 13, 10)        160       \n",
      "_________________________________________________________________\n",
      "batch_normalization_1 (Batch (None, 13, 13, 10)        40        \n",
      "_________________________________________________________________\n",
      "dropout_1 (Dropout)          (None, 13, 13, 10)        0         \n",
      "_________________________________________________________________\n",
      "average_pooling2d_1 (Average (None, 6, 6, 10)          0         \n",
      "_________________________________________________________________\n",
      "conv2d_2 (Conv2D)            (None, 4, 4, 5)           455       \n",
      "_________________________________________________________________\n",
      "batch_normalization_2 (Batch (None, 4, 4, 5)           20        \n",
      "_________________________________________________________________\n",
      "dropout_2 (Dropout)          (None, 4, 4, 5)           0         \n",
      "_________________________________________________________________\n",
      "conv2d_3 (Conv2D)            (None, 4, 4, 10)          60        \n",
      "_________________________________________________________________\n",
      "dropout_3 (Dropout)          (None, 4, 4, 10)          0         \n",
      "_________________________________________________________________\n",
      "dense (Dense)                (None, 4, 4, 64)          704       \n",
      "_________________________________________________________________\n",
      "dense_1 (Dense)              (None, 4, 4, 32)          2080      \n",
      "_________________________________________________________________\n",
      "flatten (Flatten)            (None, 512)               0         \n",
      "_________________________________________________________________\n",
      "dense_2 (Dense)              (None, 10)                5130      \n",
      "=================================================================\n",
      "Total params: 8,859\n",
      "Trainable params: 8,799\n",
      "Non-trainable params: 60\n",
      "_________________________________________________________________\n"
     ]
    }
   ],
   "source": [
    "model = Sequential([\n",
    "#input layer\n",
    "layers.Convolution2D(15, (3, 3), activation='relu', input_shape=(28,28,1)),\n",
    "layers.BatchNormalization(momentum=0.1),\n",
    "layers.Dropout(0.1),\n",
    "layers.AveragePooling2D(2),\n",
    "#convo layers1\n",
    "layers.Convolution2D(10,(1,1), activation='relu'),\n",
    "layers.BatchNormalization(momentum=0.1),\n",
    "layers.Dropout(0.1),\n",
    "#convo layers2\n",
    "layers.AveragePooling2D(2),\n",
    "layers.Convolution2D(5,(3,3), activation='relu'),\n",
    "layers.BatchNormalization(momentum=0.1),\n",
    "layers.Dropout(0.1),\n",
    "#convo layers3\n",
    "layers.Convolution2D(10,(1,1), activation='relu'),\n",
    "layers.Dropout(0.1),\n",
    "#fully connected layer1\n",
    "layers.Dense(64, activation='relu'),\n",
    "layers.Dense(32, activation='relu'),\n",
    "layers.Flatten(),\n",
    "#output layer\n",
    "layers.Dense(10, activation='softmax')\n",
    "])\n",
    "\n",
    "model.summary()"
   ]
  },
  {
   "cell_type": "markdown",
   "metadata": {
    "id": "bg0GLDdGNzSf"
   },
   "source": [
    "maybe FCNN do better?"
   ]
  },
  {
   "cell_type": "markdown",
   "metadata": {
    "colab": {
     "base_uri": "https://localhost:8080/",
     "height": 54
    },
    "id": "6SWdcrj3_tvv",
    "outputId": "3d2c057d-ee0c-4d18-aae6-993f7fb48463"
   },
   "source": [
    "model = Sequential([\n",
    "    layers.Dense(128, activation='relu', input_shape=(28,28,1)),\n",
    "    layers.Dense(64, activation='relu'),\n",
    "    layers.Flatten(),\n",
    "    layers.Dense(10, activation='softmax')\n",
    "])\n",
    "\n",
    "model.summary()"
   ]
  },
  {
   "cell_type": "markdown",
   "metadata": {},
   "source": [
    "def weighted_f1_loss(y_true, y_pred, num_class=10):\n",
    "    #create confusion matrix\n",
    "    y_true = tf.argmax(y_true, axis=1)\n",
    "    y_pred = tf.argmax(y_pred, axis=1)\n",
    "    cm = tf.math.confusion_matrix(y_pred,y_true, num_class)\n",
    "    #sum true positive\n",
    "    tp = tf.math.reduce_sum(cm * tf.eye(num_class, dtype='int32'), 0)\n",
    "    #recall score\n",
    "    rc = tp/tf.math.reduce_sum(cm, 0)\n",
    "    #precision score\n",
    "    pr = tf.math.reduce_sum(cm * tf.eye(num_class, dtype='int32'), 1)\n",
    "    pr = pr / tf.math.reduce_sum(cm, 1)\n",
    "    #f1\n",
    "    f1 = 2 * (pr * rc)/(pr + rc)\n",
    "    #weighted f1\n",
    "    wf1 = tf.cast(tf.math.reduce_sum(cm, 0), 'float64') * f1\n",
    "    wf1 = tf.math.reduce_sum(tf.boolean_mask(wf1, tf.math.is_finite(wf1)))/len(y_true)\n",
    "    #GA works best when given direction -> ** 2\n",
    "    return wf1 ** 2"
   ]
  },
  {
   "cell_type": "markdown",
   "metadata": {},
   "source": [
    "def some_loss(y_true, y_pred):\n",
    "  return tf.reduce_sum(y_true*(tf.math.exp(tf.math.abs(y_pred -y_true))-1)) /len(y_true)"
   ]
  },
  {
   "cell_type": "markdown",
   "metadata": {},
   "source": [
    "def some_loss(y_true, y_pred):\n",
    "  pt1 = tf.where(y_true == 0, 1E-6, y_true)\n",
    "  return tf.reduce_sum(tf.math.abs(y_pred - pt1)) ** 2"
   ]
  },
  {
   "cell_type": "code",
   "execution_count": 7,
   "metadata": {},
   "outputs": [],
   "source": [
    "def some_loss(y_true, y_pred):\n",
    "  return tf.reduce_mean(tf.math.exp(y_pred - y_true)) ** 2"
   ]
  },
  {
   "cell_type": "code",
   "execution_count": 8,
   "metadata": {},
   "outputs": [],
   "source": [
    "def some_loss(y_true, y_pred):\n",
    "  return tf.reduce_mean(tf.math.abs(y_pred - y_true))"
   ]
  },
  {
   "cell_type": "code",
   "execution_count": 9,
   "metadata": {},
   "outputs": [
    {
     "name": "stderr",
     "output_type": "stream",
     "text": [
      "2021-12-08 19:20:47.549470: I tensorflow/stream_executor/cuda/cuda_dnn.cc:369] Loaded cuDNN version 8101\n",
      "2021-12-08 19:20:48.697196: I tensorflow/core/platform/default/subprocess.cc:304] Start cannot spawn child process: No such file or directory\n"
     ]
    },
    {
     "name": "stdout",
     "output_type": "stream",
     "text": [
      "Accuracy on testing set:9.600000083446503%\n",
      "Error rate on testing set:90.3999999165535%\n",
      "Accuracy on training set:9.866666793823242%\n",
      "Error rate on training set:90.13333320617676%\n"
     ]
    }
   ],
   "source": [
    "acc_meter.update_state(tf.argmax(model(X_test, training=False), axis=1), tf.argmax(y_test[:1500], axis=1))\n",
    "print(\"Accuracy on testing set:{acc}%\".format(acc=acc_meter.result().numpy()*100))\n",
    "print(\"Error rate on testing set:{err}%\".format(err=(1-acc_meter.result().numpy())*100))\n",
    "acc_meter.update_state(tf.argmax(model(X_train, training=False), axis=1), tf.argmax(y_train[:1500], axis=1))\n",
    "print(\"Accuracy on training set:{acc}%\".format(acc=acc_meter.result().numpy()*100))\n",
    "print(\"Error rate on training set:{err}%\".format(err=(1-acc_meter.result().numpy())*100))"
   ]
  },
  {
   "cell_type": "markdown",
   "metadata": {
    "id": "1ptOJ9miprDS"
   },
   "source": [
    "loss"
   ]
  },
  {
   "cell_type": "code",
   "execution_count": 10,
   "metadata": {
    "id": "V_omnjFA5lOh"
   },
   "outputs": [
    {
     "name": "stderr",
     "output_type": "stream",
     "text": [
      "2021-12-08 19:20:50.086145: I tensorflow/compiler/mlir/mlir_graph_optimization_pass.cc:185] None of the MLIR Optimization Passes are enabled (registered 2)\n"
     ]
    },
    {
     "data": {
      "text/plain": [
       "<tf.Tensor: shape=(), dtype=float32, numpy=2.3034651>"
      ]
     },
     "execution_count": 10,
     "metadata": {},
     "output_type": "execute_result"
    }
   ],
   "source": [
    "cce = tf.keras.losses.CategoricalCrossentropy()\n",
    "cce(y_train, model.predict(X_train))"
   ]
  },
  {
   "cell_type": "code",
   "execution_count": 11,
   "metadata": {
    "id": "c1Q4nna4YeCz"
   },
   "outputs": [],
   "source": [
    "#we don't need one-hot to train it's for tf.fit(). To compute tf.argmax each loop is a waste of resources\n",
    "#y_train = tf.argmax(y_train, axis=1)"
   ]
  },
  {
   "cell_type": "markdown",
   "metadata": {
    "id": "kYoIXfZjp4kJ"
   },
   "source": [
    "Perpare batches if we were doing SGD-like method. <br>\n",
    "Some data are removed if size of dataset / batch_size is not an integer"
   ]
  },
  {
   "cell_type": "code",
   "execution_count": 12,
   "metadata": {
    "id": "lMeNPbTi_E04"
   },
   "outputs": [],
   "source": [
    "#A method always modifing X_train_sgd and y_train_sgd\n",
    "def make_batch(batch_size):\n",
    "  idx = numpy.random.permutation(len(X_train))\n",
    "  global X_train_sgd, y_train_sgd\n",
    "  if len(X_train) % batch_size == 0:\n",
    "    X_train_sgd = tf.reshape(X_train.numpy()[idx], [-1, batch_size, 28, 28, 1])\n",
    "    y_train_sgd = tf.reshape(y_train.numpy()[idx], [-1, batch_size, 10])\n",
    "  else:\n",
    "    #Remove some samples if can't rehape \n",
    "    len_remove = len(X_train) % batch_size\n",
    "    X_train_sgd = tf.reshape(X_train.numpy()[idx][:-len_remove], [-1, batch_size, 28, 28, 1])\n",
    "    y_train_sgd = tf.reshape(y_train.numpy()[idx][:-len_remove], [-1, batch_size, 10])"
   ]
  },
  {
   "cell_type": "code",
   "execution_count": 13,
   "metadata": {},
   "outputs": [],
   "source": [
    "def lsm(arr):\n",
    "    x = numpy.arange(len(arr))\n",
    "    n = len(arr)\n",
    "    pt1 = (n * numpy.sum(arr * x)) - (numpy.sum(x)*numpy.sum(arr))\n",
    "    pt2 = n * numpy.sum(x ** 2) - (numpy.sum(x)**2)\n",
    "    m = pt1 / pt2\n",
    "    b = (numpy.sum(arr) - (m*numpy.sum(x))) / n\n",
    "    print(m)\n",
    "    return m * x + b"
   ]
  },
  {
   "cell_type": "code",
   "execution_count": 14,
   "metadata": {},
   "outputs": [],
   "source": [
    "import matplotlib.pyplot as plt"
   ]
  },
  {
   "cell_type": "code",
   "execution_count": 15,
   "metadata": {
    "id": "_V7t28kieeVR"
   },
   "outputs": [],
   "source": [
    "X_train_sgd = []\n",
    "y_train_sgd = []\n",
    "make_batch(batch_size)"
   ]
  },
  {
   "cell_type": "markdown",
   "metadata": {
    "id": "ROmBNKL2Pw2u"
   },
   "source": [
    "# Fitness "
   ]
  },
  {
   "cell_type": "code",
   "execution_count": 16,
   "metadata": {},
   "outputs": [],
   "source": [
    "keras_ga = pygad.kerasga.KerasGA(model=model,\n",
    "                                 num_solutions=num_solution)"
   ]
  },
  {
   "cell_type": "code",
   "execution_count": 17,
   "metadata": {
    "id": "CuGqTK0NeeVR"
   },
   "outputs": [],
   "source": [
    "#Some helper varibles\n",
    "i = 0\n",
    "cycles_stucked = 0\n",
    "k=0\n",
    "tmp = 0\n",
    "\n",
    "#fitness_func uses acc matrix as fitness.\n",
    "def fitness_func(solution, sol_idx):\n",
    "\n",
    "    global model, i, cycles_stucked ,X_train, y_train, k, y_train_sgd, X_train_sgd\n",
    "    solution_fitness = 0\n",
    "    model_weights_matrix = pygad.kerasga.model_weights_as_matrix(model=model,\n",
    "                                                                 weights_vector=solution)\n",
    "\n",
    "    model.set_weights(weights=model_weights_matrix)\n",
    "\n",
    "    #if perfer to use loss instead\n",
    "    #solution_fitness = 1/cce(model.predict(X_train), y_train).numpy()\n",
    "\n",
    "    if sgd_like == True:\n",
    "      #update acc_meter\n",
    "      #acc_meter.update_state(tf.argmax(model.predict(X_train_sgd[k]), axis=1), y_train_sgd[k])\n",
    "      #solution_fitness = acc_meter.result().numpy() * 100\n",
    "      #acc_meter.reset_states()\n",
    "      solution_fitness = some_loss(model(X_train_sgd[k], training=False), y_train_sgd[k]).numpy()\n",
    "    else:\n",
    "      #acc_meter.update_state(tf.argmax(model.predict(X_train), axis=1), y_train)\n",
    "      #solution_fitness = acc_meter.result().numpy() * 100\n",
    "      #acc_meter.reset_states()\n",
    "      solution_fitness = some_loss(model(X_train, training=False), y_train).numpy()\n",
    "    #print(solution_fitness)\n",
    "    if numpy.isnan(solution_fitness):\n",
    "      return 1E-20\n",
    "    else:\n",
    "      return 1/ solution_fitness"
   ]
  },
  {
   "cell_type": "markdown",
   "metadata": {
    "id": "N1eTVN72hDnR"
   },
   "source": [
    "# Crossover function"
   ]
  },
  {
   "cell_type": "code",
   "execution_count": 18,
   "metadata": {
    "id": "52QeidT1oTdx"
   },
   "outputs": [],
   "source": [
    "def crossover_func(parents, offspring_size, ga_instance):\n",
    "  global cycles_stucked\n",
    "  offspring = []\n",
    "  idx = 0\n",
    "\n",
    "  #Standard offspring method from https://pygad.readthedocs.io/en/latest/README_pygad_ReadTheDocs.html#life-cycle-of-pygad\n",
    "  while len(offspring) != offspring_size[0]:\n",
    "    parent1 = parents[idx % parents.shape[0], :].copy()\n",
    "    parent2 = parents[(idx + 1) % parents.shape[0], :].copy()\n",
    "    random_split_point = numpy.random.choice(range(offspring_size[0]))\n",
    "    parent1[random_split_point:] = parent2[random_split_point:]\n",
    "    offspring.append(parent1)\n",
    "    idx += 1\n",
    "\n",
    "  offspring = numpy.array(offspring)\n",
    "  \n",
    "  if introduce_new_pop and cycles_stucked == max_cycles_stucked:\n",
    "    #craete new parents with new random variables\n",
    "    new_parents = tf.random.truncated_normal(offspring.shape).numpy()\n",
    "    #create an array that contain both offspring and new parents\n",
    "    new_parents = numpy.append(new_parents, offspring)\n",
    "    #shuffle\n",
    "    numpy.random.shuffle(new_parents)\n",
    "    #rehspae\n",
    "    new_parents = new_parents.reshape(-1, offspring.shape[1])\n",
    "    offspring = new_parents[:len(offspring)]\n",
    "    print('New gene added')\n",
    "    #Only want to do this once\n",
    "    cycles_stucked = 0\n",
    "\n",
    "  return numpy.array(offspring)"
   ]
  },
  {
   "cell_type": "markdown",
   "metadata": {
    "id": "uMq0ymNksDWa"
   },
   "source": [
    "# callback"
   ]
  },
  {
   "cell_type": "code",
   "execution_count": 19,
   "metadata": {
    "id": "Ymw9h30fsBTr"
   },
   "outputs": [],
   "source": [
    "def callback_generation(ga_instance):\n",
    "    global i, k, cycles_stucked, tmp, X_train_sgd, mutation_lower, decay, epoch\n",
    "    \n",
    "    fitness = ga_instance.best_solution()[1]\n",
    "\n",
    "    if fitness == tmp:\n",
    "      cycles_stucked += 1\n",
    "      if dynamic_batch_size and cycles_stucked == max_cycles_stucked:\n",
    "        #increase batch size. Up until only 1 batch with all samples avaliable\n",
    "        make_batch(min(X_train_sgd.shape[1]+batch_increase, X_train_sgd.shape[0]*X_train_sgd.shape[1]))\n",
    "        print(\"Batch size increased -> new shape: \",X_train_sgd.shape)\n",
    "        k = numpy.random.randint(0, len(X_train_sgd)-1)\n",
    "        #Otherwise introduce_new_pop from cross over will never be True. \n",
    "        if not introduce_new_pop:\n",
    "          #keep track of cycles stucked\n",
    "          cycles_stucked = 0\n",
    "    else:\n",
    "      cycles_stucked = 0\n",
    "\n",
    "    #keep track of generation\n",
    "    i += 1\n",
    "    if sgd_like == True:\n",
    "      if i % (1 * epoch) == 0:\n",
    "        #select random data from reshaped dataset to train\n",
    "        k = numpy.random.randint(0, len(X_train_sgd)-1)\n",
    "        print(\"Generation = {generation}\".format(generation=ga_instance.generations_completed))\n",
    "        print('new set')\n",
    "    if reshuffle:\n",
    "      if i % (1 * reshuffle_per) == 0:\n",
    "        #select random data from reshaped dataset to train\n",
    "        make_batch(X_train_sgd.shape[1])\n",
    "        print('reshuffled')\n",
    "    #update tmp\n",
    "    tmp = fitness\n",
    "    \n",
    "    if i % (decay) == 0:\n",
    "        print(\"Generation = {generation}\".format(generation=ga_instance.generations_completed))\n",
    "        print(\"Fitness    = {fitness}\".format(fitness=fitness))\n",
    "        mutation_lower -= 15\n",
    "        epoch += 10 \n",
    "        setattr(ga_instance, 'mutation_num_genes', (90, max(5, mutation_lower)))\n",
    "        #make_batch(max(X_train_sgd.shape[1]-batch_increase, 500))\n",
    "        #k = numpy.random.randint(0, len(X_train_sgd)-1)\n",
    "        #decay = max(decay - 50, 100)\n",
    "        print(\"Batch size increased -> new shape: \",X_train_sgd.shape)\n",
    "        print(\"new mutation rate:\", max(30, mutation_lower), \" decay: \", decay)\n",
    "#    if fitness >= 50:\n",
    "#      sgd_like = True"
   ]
  },
  {
   "cell_type": "markdown",
   "metadata": {
    "id": "8rfuRuDMuCfg"
   },
   "source": [
    "#  Run"
   ]
  },
  {
   "cell_type": "code",
   "execution_count": 20,
   "metadata": {
    "id": "u0e-_WFceeVS"
   },
   "outputs": [
    {
     "name": "stderr",
     "output_type": "stream",
     "text": [
      "/home/akita/.local/lib/python3.8/site-packages/pygad/pygad.py:621: UserWarning: The steady-state parent (sss) selection operator is used despite that no parents are kept in the next generation.\n",
      "  if not self.suppress_warnings: warnings.warn(\"The steady-state parent (sss) selection operator is used despite that no parents are kept in the next generation.\")\n"
     ]
    },
    {
     "name": "stdout",
     "output_type": "stream",
     "text": [
      "Generation = 10\n",
      "new set\n",
      "Generation = 20\n",
      "new set\n",
      "Generation = 30\n",
      "new set\n",
      "Generation = 40\n",
      "new set\n",
      "Generation = 50\n",
      "new set\n",
      "reshuffled\n",
      "Generation = 60\n",
      "new set\n",
      "Generation = 70\n",
      "new set\n",
      "Generation = 80\n",
      "new set\n",
      "Generation = 90\n",
      "new set\n",
      "Generation = 100\n",
      "new set\n",
      "reshuffled\n",
      "Generation = 110\n",
      "new set\n",
      "Generation = 120\n",
      "new set\n",
      "Generation = 130\n",
      "new set\n",
      "Generation = 140\n",
      "new set\n",
      "Generation = 150\n",
      "new set\n",
      "reshuffled\n",
      "Generation = 160\n",
      "new set\n",
      "Generation = 170\n",
      "new set\n",
      "Generation = 180\n",
      "new set\n",
      "Generation = 190\n",
      "new set\n",
      "Generation = 200\n",
      "new set\n",
      "reshuffled\n",
      "Generation = 210\n",
      "new set\n",
      "Generation = 220\n",
      "new set\n",
      "Generation = 230\n",
      "new set\n",
      "Generation = 240\n",
      "new set\n",
      "Generation = 250\n",
      "new set\n",
      "reshuffled\n",
      "Generation = 260\n",
      "new set\n",
      "Generation = 270\n",
      "new set\n",
      "Generation = 280\n",
      "new set\n",
      "Generation = 290\n",
      "new set\n",
      "Generation = 300\n",
      "new set\n",
      "reshuffled\n",
      "Generation = 310\n",
      "new set\n",
      "Generation = 320\n",
      "new set\n",
      "Generation = 330\n",
      "new set\n",
      "Generation = 340\n",
      "new set\n",
      "Generation = 350\n",
      "new set\n",
      "reshuffled\n",
      "Generation = 360\n",
      "new set\n",
      "Generation = 370\n",
      "new set\n",
      "Generation = 380\n",
      "new set\n",
      "Generation = 390\n",
      "new set\n",
      "Generation = 400\n",
      "new set\n",
      "reshuffled\n",
      "Generation = 410\n",
      "new set\n",
      "Generation = 420\n",
      "new set\n",
      "Generation = 430\n",
      "new set\n",
      "Generation = 440\n",
      "new set\n",
      "Generation = 450\n",
      "new set\n",
      "reshuffled\n",
      "Generation = 460\n",
      "new set\n",
      "Generation = 470\n",
      "new set\n",
      "Generation = 480\n",
      "new set\n",
      "Generation = 490\n",
      "new set\n",
      "Generation = 500\n",
      "new set\n",
      "reshuffled\n",
      "Generation = 510\n",
      "new set\n",
      "Generation = 520\n",
      "new set\n",
      "Generation = 530\n",
      "new set\n",
      "Generation = 540\n",
      "new set\n",
      "Generation = 550\n",
      "new set\n",
      "reshuffled\n",
      "Generation = 560\n",
      "new set\n",
      "Generation = 570\n",
      "new set\n",
      "Generation = 580\n",
      "new set\n",
      "Generation = 590\n",
      "new set\n",
      "Generation = 600\n",
      "new set\n",
      "reshuffled\n",
      "Generation = 600\n",
      "Fitness    = 10.978287129192301\n",
      "Batch size increased -> new shape:  (6, 9000, 28, 28, 1)\n",
      "new mutation rate: 65  decay:  600\n",
      "Generation = 620\n",
      "new set\n",
      "Generation = 640\n",
      "new set\n",
      "reshuffled\n",
      "Generation = 660\n",
      "new set\n",
      "Generation = 680\n",
      "new set\n",
      "Generation = 700\n",
      "new set\n",
      "reshuffled\n",
      "Generation = 720\n",
      "new set\n",
      "Generation = 740\n",
      "new set\n",
      "reshuffled\n",
      "Generation = 760\n",
      "new set\n",
      "Generation = 780\n",
      "new set\n",
      "Generation = 800\n",
      "new set\n",
      "reshuffled\n",
      "Generation = 820\n",
      "new set\n",
      "Generation = 840\n",
      "new set\n",
      "reshuffled\n",
      "Generation = 860\n",
      "new set\n",
      "Generation = 880\n",
      "new set\n",
      "Generation = 900\n",
      "new set\n",
      "reshuffled\n",
      "Generation = 920\n",
      "new set\n",
      "Generation = 940\n",
      "new set\n",
      "reshuffled\n",
      "Generation = 960\n",
      "new set\n",
      "Generation = 980\n",
      "new set\n",
      "Generation = 1000\n",
      "new set\n",
      "reshuffled\n",
      "Generation = 1020\n",
      "new set\n",
      "Generation = 1040\n",
      "new set\n",
      "reshuffled\n",
      "Generation = 1060\n",
      "new set\n",
      "Generation = 1080\n",
      "new set\n",
      "Generation = 1100\n",
      "new set\n",
      "reshuffled\n",
      "Generation = 1120\n",
      "new set\n",
      "Generation = 1140\n",
      "new set\n",
      "reshuffled\n",
      "Generation = 1160\n",
      "new set\n",
      "Generation = 1180\n",
      "new set\n",
      "Generation = 1200\n",
      "new set\n",
      "reshuffled\n",
      "Generation = 1200\n",
      "Fitness    = 12.168739446123494\n",
      "Batch size increased -> new shape:  (6, 9000, 28, 28, 1)\n",
      "new mutation rate: 50  decay:  600\n",
      "Generation = 1230\n",
      "new set\n",
      "reshuffled\n",
      "Generation = 1260\n",
      "new set\n",
      "Generation = 1290\n",
      "new set\n",
      "reshuffled\n",
      "Generation = 1320\n",
      "new set\n",
      "Generation = 1350\n",
      "new set\n",
      "reshuffled\n",
      "Generation = 1380\n",
      "new set\n",
      "reshuffled\n",
      "Generation = 1410\n",
      "new set\n",
      "Generation = 1440\n",
      "new set\n",
      "reshuffled\n",
      "Generation = 1470\n",
      "new set\n",
      "Generation = 1500\n",
      "new set\n",
      "reshuffled\n",
      "Generation = 1530\n",
      "new set\n",
      "reshuffled\n",
      "Generation = 1560\n",
      "new set\n",
      "Generation = 1590\n",
      "new set\n",
      "reshuffled\n",
      "Generation = 1620\n",
      "new set\n",
      "Generation = 1650\n",
      "new set\n",
      "reshuffled\n",
      "Generation = 1680\n",
      "new set\n",
      "reshuffled\n",
      "Generation = 1710\n",
      "new set\n",
      "Generation = 1740\n",
      "new set\n",
      "reshuffled\n",
      "Generation = 1770\n",
      "new set\n",
      "Generation = 1800\n",
      "new set\n",
      "reshuffled\n",
      "Generation = 1800\n",
      "Fitness    = 13.953488623535012\n",
      "Batch size increased -> new shape:  (6, 9000, 28, 28, 1)\n",
      "new mutation rate: 35  decay:  600\n",
      "Generation = 1840\n",
      "new set\n",
      "reshuffled\n",
      "Generation = 1880\n",
      "new set\n",
      "reshuffled\n",
      "Generation = 1920\n",
      "new set\n",
      "reshuffled\n",
      "Generation = 1960\n",
      "new set\n",
      "Generation = 2000\n",
      "new set\n",
      "reshuffled\n",
      "Generation = 2040\n",
      "new set\n",
      "reshuffled\n",
      "Generation = 2080\n",
      "new set\n",
      "reshuffled\n",
      "Generation = 2120\n",
      "new set\n",
      "reshuffled\n",
      "Generation = 2160\n",
      "new set\n",
      "Generation = 2200\n",
      "new set\n",
      "reshuffled\n",
      "Generation = 2240\n",
      "new set\n",
      "reshuffled\n",
      "Generation = 2280\n",
      "new set\n",
      "reshuffled\n",
      "Generation = 2320\n",
      "new set\n",
      "reshuffled\n",
      "Generation = 2360\n",
      "new set\n",
      "Generation = 2400\n",
      "new set\n",
      "reshuffled\n",
      "Generation = 2400\n",
      "Fitness    = 15.86741980061\n",
      "Batch size increased -> new shape:  (6, 9000, 28, 28, 1)\n",
      "new mutation rate: 30  decay:  600\n",
      "Generation = 2450\n",
      "new set\n",
      "reshuffled\n",
      "Generation = 2500\n",
      "new set\n",
      "reshuffled\n",
      "Generation = 2550\n",
      "new set\n",
      "reshuffled\n",
      "Generation = 2600\n",
      "new set\n",
      "reshuffled\n",
      "Generation = 2650\n",
      "new set\n",
      "reshuffled\n",
      "Generation = 2700\n",
      "new set\n",
      "reshuffled\n",
      "Generation = 2750\n",
      "new set\n",
      "reshuffled\n",
      "Generation = 2800\n",
      "new set\n",
      "reshuffled\n",
      "Generation = 2850\n",
      "new set\n",
      "reshuffled\n",
      "Generation = 2900\n",
      "new set\n",
      "reshuffled\n",
      "Generation = 2950\n",
      "new set\n",
      "reshuffled\n",
      "Generation = 3000\n",
      "new set\n",
      "reshuffled\n",
      "Generation = 3000\n",
      "Fitness    = 17.5233641302989\n",
      "Batch size increased -> new shape:  (6, 9000, 28, 28, 1)\n",
      "new mutation rate: 30  decay:  600\n",
      "reshuffled\n",
      "Generation = 3060\n",
      "new set\n",
      "reshuffled\n",
      "Generation = 3120\n",
      "new set\n",
      "reshuffled\n",
      "Generation = 3180\n",
      "new set\n",
      "reshuffled\n",
      "Generation = 3240\n",
      "new set\n",
      "reshuffled\n",
      "Generation = 3300\n",
      "new set\n",
      "reshuffled\n",
      "reshuffled\n",
      "Generation = 3360\n",
      "new set\n",
      "reshuffled\n",
      "Generation = 3420\n",
      "new set\n",
      "reshuffled\n",
      "Generation = 3480\n",
      "new set\n",
      "reshuffled\n",
      "Generation = 3540\n",
      "new set\n",
      "reshuffled\n",
      "Generation = 3600\n",
      "new set\n",
      "reshuffled\n",
      "Generation = 3600\n",
      "Fitness    = 20.080320847726444\n",
      "Batch size increased -> new shape:  (6, 9000, 28, 28, 1)\n",
      "new mutation rate: 30  decay:  600\n",
      "Generation = 3640\n",
      "new set\n",
      "reshuffled\n",
      "reshuffled\n",
      "Generation = 3710\n",
      "new set\n",
      "reshuffled\n",
      "Generation = 3780\n",
      "new set\n",
      "reshuffled\n",
      "Generation = 3850\n",
      "new set\n",
      "reshuffled\n",
      "reshuffled\n",
      "Generation = 3920\n",
      "new set\n",
      "reshuffled\n",
      "Generation = 3990\n",
      "new set\n",
      "reshuffled\n",
      "reshuffled\n",
      "Generation = 4060\n",
      "new set\n",
      "reshuffled\n",
      "Generation = 4130\n",
      "new set\n",
      "reshuffled\n",
      "Generation = 4200\n",
      "new set\n",
      "reshuffled\n",
      "Generation = 4200\n",
      "Fitness    = 20.233812581703766\n",
      "Batch size increased -> new shape:  (6, 9000, 28, 28, 1)\n",
      "new mutation rate: 30  decay:  600\n",
      "Generation = 4240\n",
      "new set\n",
      "reshuffled\n",
      "reshuffled\n",
      "Generation = 4320\n",
      "new set\n",
      "reshuffled\n",
      "Generation = 4400\n",
      "new set\n",
      "reshuffled\n",
      "reshuffled\n",
      "Generation = 4480\n",
      "new set\n",
      "reshuffled\n",
      "reshuffled\n",
      "Generation = 4560\n",
      "new set\n",
      "reshuffled\n",
      "Generation = 4640\n",
      "new set\n",
      "reshuffled\n",
      "reshuffled\n",
      "Generation = 4720\n",
      "new set\n",
      "reshuffled\n",
      "Generation = 4800\n",
      "new set\n",
      "reshuffled\n",
      "Generation = 4800\n",
      "Fitness    = 21.126760425926605\n",
      "Batch size increased -> new shape:  (6, 9000, 28, 28, 1)\n",
      "new mutation rate: 30  decay:  600\n",
      "reshuffled\n",
      "Generation = 4860\n",
      "new set\n",
      "reshuffled\n",
      "Generation = 4950\n",
      "new set\n",
      "reshuffled\n",
      "reshuffled\n"
     ]
    }
   ],
   "source": [
    "# Prepare the PyGAD parameters. Check the documentation for more information: https://pygad.readthedocs.io/en/latest/README_pygad_ReadTheDocs.html#pygad-ga-class\n",
    "# Use the pre-existing model weight as init population. \n",
    "initial_population = numpy.tile(pygad.kerasga.model_weights_as_vector(model), (num_solution, 1))\n",
    "\n",
    "\n",
    "ga_instance = pygad.GA(num_generations=num_generations,\n",
    "                       num_parents_mating=num_parents_mating,\n",
    "                       initial_population=initial_population,\n",
    "                       fitness_func=fitness_func,\n",
    "                       keep_parents=keep_parents,\n",
    "                       mutation_type=mutation_type,\n",
    "                       parent_selection_type=parent_selection_type,\n",
    "                       crossover_type=crossover_func,\n",
    "                       mutation_num_genes=mutation_num_genes,\n",
    "                       on_generation=callback_generation)\n",
    "                       #stop_criteria='reach_85')\n",
    "\n",
    "ga_instance.run()"
   ]
  },
  {
   "cell_type": "markdown",
   "metadata": {
    "id": "KQYVcXPuuFMx"
   },
   "source": [
    "# Stat"
   ]
  },
  {
   "cell_type": "code",
   "execution_count": 21,
   "metadata": {
    "id": "gKFLa_wLeeVT"
   },
   "outputs": [
    {
     "data": {
      "image/png": "[encoded data removed]",
      "text/plain": [
       "<Figure size 432x288 with 1 Axes>"
      ]
     },
     "metadata": {
      "needs_background": "light"
     },
     "output_type": "display_data"
    },
    {
     "name": "stdout",
     "output_type": "stream",
     "text": [
      "Fitness value of the best solution = 21.48997057687906\n",
      "Index of the best solution : 23\n"
     ]
    }
   ],
   "source": [
    "\n",
    "# After the generations complete, some plots are showed that summarize how the outputs/fitness values evolve over generations.\n",
    "ga_instance.plot_fitness(title=\"PyGAD & Keras - Iteration vs. Fitness\", linewidth=4)\n",
    "\n",
    "# Returning the details of the best solution.\n",
    "solution, solution_fitness, solution_idx = ga_instance.best_solution()\n",
    "print(\"Fitness value of the best solution = {solution_fitness}\".format(solution_fitness=solution_fitness))\n",
    "print(\"Index of the best solution : {solution_idx}\".format(solution_idx=solution_idx))\n",
    "\n",
    "# Fetch the parameters of the best solution.\n",
    "best_solution_weights = pygad.kerasga.model_weights_as_matrix(model=model,\n",
    "                                                              weights_vector=solution)\n",
    "model.set_weights(best_solution_weights)\n",
    "\n",
    "#remove if using acc matrix as fitness instead])\n",
    "#acc_meter.update_state(tf.argmax(model.predict(X_test), axis=1), tf.argmax(y_test, axis=1))\n",
    "#print(\"Accuracy on testing set:{acc}%\".format(acc=acc_meter.result().numpy()*100))\n",
    "#print(\"Error rate on testing set:{err}%\".format(err=(1-acc_meter.result().numpy())*100))\n",
    "\n",
    "#acc_meter.update_state(tf.argmax(model.predict(X_train), axis=1), y_train)\n",
    "#print(\"Accuracy on training set:{acc}%\".format(acc=acc_meter.result().numpy()*100))\n",
    "#print(\"Error rate on training set:{err}%\".format(err=(1-acc_meter.result().numpy())*100))"
   ]
  },
  {
   "cell_type": "code",
   "execution_count": 22,
   "metadata": {},
   "outputs": [
    {
     "name": "stdout",
     "output_type": "stream",
     "text": [
      "Accuracy on testing set:61.9615375995636%\n",
      "Error rate on testing set:38.0384624004364%\n"
     ]
    },
    {
     "name": "stderr",
     "output_type": "stream",
     "text": [
      "2021-12-08 22:29:41.167404: W tensorflow/core/common_runtime/bfc_allocator.cc:272] Allocator (GPU_0_bfc) ran out of memory trying to allocate 2.28GiB with freed_by_count=0. The caller indicates that this is not a failure, but may mean that there could be performance gains if more memory were available.\n",
      "2021-12-08 22:29:41.168001: W tensorflow/core/kernels/gpu_utils.cc:49] Failed to allocate memory for convolution redzone checking; skipping this check. This is benign and only means that we won't check cudnn for out-of-bounds reads and writes. This message will only be printed once.\n",
      "2021-12-08 22:29:41.411799: W tensorflow/core/common_runtime/bfc_allocator.cc:272] Allocator (GPU_0_bfc) ran out of memory trying to allocate 1.38GiB with freed_by_count=0. The caller indicates that this is not a failure, but may mean that there could be performance gains if more memory were available.\n",
      "2021-12-08 22:29:41.411995: W tensorflow/core/common_runtime/bfc_allocator.cc:272] Allocator (GPU_0_bfc) ran out of memory trying to allocate 1.38GiB with freed_by_count=0. The caller indicates that this is not a failure, but may mean that there could be performance gains if more memory were available.\n",
      "2021-12-08 22:29:41.560360: W tensorflow/core/common_runtime/bfc_allocator.cc:272] Allocator (GPU_0_bfc) ran out of memory trying to allocate 3.91GiB with freed_by_count=0. The caller indicates that this is not a failure, but may mean that there could be performance gains if more memory were available.\n",
      "2021-12-08 22:29:41.560432: W tensorflow/core/common_runtime/bfc_allocator.cc:272] Allocator (GPU_0_bfc) ran out of memory trying to allocate 3.91GiB with freed_by_count=0. The caller indicates that this is not a failure, but may mean that there could be performance gains if more memory were available.\n"
     ]
    },
    {
     "name": "stdout",
     "output_type": "stream",
     "text": [
      "Accuracy on training set:74.2630124092102%\n",
      "Error rate on training set:25.736987590789795%\n"
     ]
    }
   ],
   "source": [
    "acc_meter.update_state(tf.argmax(model(X_test, training=False), axis=1), tf.argmax(y_test, axis=1))\n",
    "print(\"Accuracy on testing set:{acc}%\".format(acc=acc_meter.result().numpy()*100))\n",
    "print(\"Error rate on testing set:{err}%\".format(err=(1-acc_meter.result().numpy())*100))\n",
    "acc_meter.update_state(tf.argmax(model(X_train, training=False), axis=1), tf.argmax(y_train, axis=1))\n",
    "print(\"Accuracy on training set:{acc}%\".format(acc=acc_meter.result().numpy()*100))\n",
    "print(\"Error rate on training set:{err}%\".format(err=(1-acc_meter.result().numpy())*100))"
   ]
  },
  {
   "cell_type": "code",
   "execution_count": 23,
   "metadata": {},
   "outputs": [],
   "source": [
    "arr = getattr(ga_instance, 'best_solutions_fitness')\n",
    "x = numpy.arange(len(arr))"
   ]
  },
  {
   "cell_type": "code",
   "execution_count": 24,
   "metadata": {},
   "outputs": [
    {
     "name": "stdout",
     "output_type": "stream",
     "text": [
      "0.008881547699909847\n",
      "0.0016569900697010701\n",
      "0.0025155786105124094\n",
      "0.001427716057534274\n",
      "0.0037630683975641557\n",
      "0.002032640081563088\n",
      "0.005594736879579034\n",
      "0.0010670269745023378\n",
      "0.00234539262162966\n",
      "2.4625871444525816e-05\n"
     ]
    },
    {
     "data": {
      "image/png": "[encoded data removed]",
      "text/plain": [
       "<Figure size 432x288 with 1 Axes>"
      ]
     },
     "metadata": {
      "needs_background": "light"
     },
     "output_type": "display_data"
    }
   ],
   "source": [
    "plt.plot(x, arr)\n",
    "per = 500\n",
    "i = 0\n",
    "j = i + per\n",
    "while j <= len(arr):\n",
    "    plt.plot(x[i:j], lsm(arr[i:j]), 'yellow')\n",
    "    i = j\n",
    "    j += per"
   ]
  },
  {
   "cell_type": "code",
   "execution_count": null,
   "metadata": {},
   "outputs": [],
   "source": []
  }
 ],
 "metadata": {
  "colab": {
   "collapsed_sections": [],
   "name": "Copy_of_kerasGA.ipynb",
   "provenance": []
  },
  "kernelspec": {
   "display_name": "Python 3 (ipykernel)",
   "language": "python",
   "name": "python3"
  },
  "language_info": {
   "codemirror_mode": {
    "name": "ipython",
    "version": 3
   },
   "file_extension": ".py",
   "mimetype": "text/x-python",
   "name": "python",
   "nbconvert_exporter": "python",
   "pygments_lexer": "ipython3",
   "version": "3.8.10"
  }
 },
 "nbformat": 4,
 "nbformat_minor": 1
}

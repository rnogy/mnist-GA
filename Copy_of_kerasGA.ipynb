{
 "cells": [
  {
   "cell_type": "code",
   "execution_count": null,
   "metadata": {
    "colab": {
     "base_uri": "https://localhost:8080/"
    },
    "id": "8lqbeWAze76Q",
    "outputId": "abb0b209-9af0-4ac9-f2bc-f4e2af04591d",
    "scrolled": true
   },
   "outputs": [],
   "source": [
    "#!pip install pygad"
   ]
  },
  {
   "cell_type": "markdown",
   "metadata": {
    "id": "Wu_yNfc2kEBP"
   },
   "source": [
    "Modified version of pygad samples. https://pygad.readthedocs.io/en/latest/README_pygad_ReadTheDocs.html#life-cycle-of-pygad <br>\n",
    "Model inspired and modified from http://uhurumkate.blogspot.com/2018/06/tiny-model-for-mnist-dataset.html"
   ]
  },
  {
   "cell_type": "markdown",
   "metadata": {
    "id": "-N1PbHsWQWlW"
   },
   "source": [
    "You're highly encouraged to use a GPU as it's going to spent most resources on predicting and calculating acc. Please also note that pygad library only use CPU paralleal in some cases."
   ]
  },
  {
   "cell_type": "markdown",
   "metadata": {
    "id": "gXxmJd3ai2yd"
   },
   "source": [
    "The highest acc was achieved with everything set to False, and with 23 hours of training. 500 cycles and 58% acc"
   ]
  },
  {
   "cell_type": "code",
   "execution_count": 2,
   "metadata": {
    "id": "i5L3JMNgS-L0"
   },
   "outputs": [],
   "source": [
    "import tensorflow as tf\n",
    "import tensorflow.keras\n",
    "from tensorflow.keras import losses, datasets, layers, optimizers, Sequential, metrics\n",
    "import pygad.kerasga\n",
    "import numpy\n",
    "import pygad"
   ]
  },
  {
   "cell_type": "markdown",
   "metadata": {
    "id": "zdZ1owxPPsRn"
   },
   "source": [
    "# Hyper param"
   ]
  },
  {
   "cell_type": "code",
   "execution_count": 3,
   "metadata": {
    "id": "JGFxRvr3eWGX"
   },
   "outputs": [],
   "source": [
    "acc_meter = tf.keras.metrics.Accuracy()\n",
    "\n",
    "#Instead of training a entire dataset, do small batches.\n",
    "sgd_like = True\n",
    "\n",
    "#introduce new population when stucked. Often time it'll stuck in local best solution.\n",
    "introduce_new_pop = True\n",
    "\n",
    "#increase batch size when stcuked.\n",
    "dynamic_batch_size = False"
   ]
  },
  {
   "cell_type": "code",
   "execution_count": 4,
   "metadata": {
    "id": "hl1q_FZnfTG1"
   },
   "outputs": [],
   "source": [
    "#num cycles\n",
    "num_generations = 10000\n",
    "\n",
    "#num soltions\n",
    "num_solution= 10\n",
    "\n",
    "#the following two param only works if introduce_new_pop = True\n",
    "#Maxium cycles stuck before introducing new population to the pool.\n",
    "max_cycles_stucked = 10\n",
    "#Number of population being replaced with new random population. Must be 0 < x <= num_solution\n",
    "num_introduce = 10\n",
    "\n",
    "#The follow two param have effect only when sgd_like = True\n",
    "#number of cycles you want on a single batch. \n",
    "epoch = 20\n",
    "#number of samples per batch\n",
    "batch_size = 500\n",
    "\n",
    "#number batch increase feed into prediction. only have effect if sgd_like = True\n",
    "#Ex. batch size 300 -> 300 + 300 = 600. Note that some data will be lose during the process\n",
    "batch_increase = 500\n",
    "\n",
    "#Typical pygad params\n",
    "num_parents_mating = int(num_solution * .5)\n",
    "parent_selection_type = \"sss\"\n",
    "mutation_type=\"adaptive\"\n",
    "mutation_num_genes=(90, 50)\n",
    "keep_parents = 0"
   ]
  },
  {
   "cell_type": "markdown",
   "metadata": {
    "id": "Mm_Hl7BAgrzv"
   },
   "source": [
    "# dataset"
   ]
  },
  {
   "cell_type": "code",
   "execution_count": 5,
   "metadata": {
    "id": "8Rkq5w4dequA"
   },
   "outputs": [],
   "source": [
    "#load mnist dataset\n",
    "(X_train, y_train), (X_test, y_test) = datasets.mnist.load_data()\n",
    "#normalize data\n",
    "X_train = 2*tf.convert_to_tensor(X_train, tf.float32)/255.-1\n",
    "#[b, 28, 28] -> [b, 28, 28, 1]\n",
    "X_train = tf.reshape(X_train, (-1, 28,28,1))\n",
    "X_test = 2*tf.convert_to_tensor(X_test, tf.float32)/255.-1\n",
    "X_test = tf.reshape(X_test, (-1, 28,28,1))\n",
    "y_train = tf.convert_to_tensor(y_train, tf.int32)\n",
    "#[b] -> [b, 10]\n",
    "y_train = tf.one_hot(y_train, 10)\n",
    "y_test = tf.convert_to_tensor(y_test, tf.int32)\n",
    "y_test = tf.one_hot(y_test, 10)"
   ]
  },
  {
   "cell_type": "markdown",
   "metadata": {
    "id": "tGsLcsClp1P6"
   },
   "source": [
    "# Model"
   ]
  },
  {
   "cell_type": "markdown",
   "metadata": {
    "id": "mYvgt7ULiR5L"
   },
   "source": [
    "We want a very small model for the increase in param will increase the cycles GA needs to run </ba>\n",
    "Model parameter = 2665 with acc ~ 96% on both train/testing sets (trained with triditional method).<br>\n",
    "EDIT: <br>\n",
    " I relized that the model **DO** have impact. For example, when l`ayers.Dense(3, activation='relu')`, you'll have 1.8k param. You might think it'll be easier for the model to converge. Yet, `layers.Dense(10, activation='relu')` is faster. `layers.Dense(20, activation='relu')` is even better with 4.5k param. This indicates we don't need a small model, but a GOOD model (define good)."
   ]
  },
  {
   "cell_type": "code",
   "execution_count": 6,
   "metadata": {
    "colab": {
     "base_uri": "https://localhost:8080/"
    },
    "id": "dW1AXe0zci0T",
    "outputId": "479a0261-2645-4cb2-f8cf-f1114ba59e9e"
   },
   "outputs": [
    {
     "name": "stdout",
     "output_type": "stream",
     "text": [
      "Model: \"sequential\"\n",
      "_________________________________________________________________\n",
      "Layer (type)                 Output Shape              Param #   \n",
      "=================================================================\n",
      "conv2d (Conv2D)              (None, 26, 26, 15)        150       \n",
      "_________________________________________________________________\n",
      "batch_normalization (BatchNo (None, 26, 26, 15)        60        \n",
      "_________________________________________________________________\n",
      "dropout (Dropout)            (None, 26, 26, 15)        0         \n",
      "_________________________________________________________________\n",
      "average_pooling2d (AveragePo (None, 13, 13, 15)        0         \n",
      "_________________________________________________________________\n",
      "conv2d_1 (Conv2D)            (None, 13, 13, 10)        160       \n",
      "_________________________________________________________________\n",
      "batch_normalization_1 (Batch (None, 13, 13, 10)        40        \n",
      "_________________________________________________________________\n",
      "dropout_1 (Dropout)          (None, 13, 13, 10)        0         \n",
      "_________________________________________________________________\n",
      "average_pooling2d_1 (Average (None, 6, 6, 10)          0         \n",
      "_________________________________________________________________\n",
      "conv2d_2 (Conv2D)            (None, 4, 4, 5)           455       \n",
      "_________________________________________________________________\n",
      "batch_normalization_2 (Batch (None, 4, 4, 5)           20        \n",
      "_________________________________________________________________\n",
      "dropout_2 (Dropout)          (None, 4, 4, 5)           0         \n",
      "_________________________________________________________________\n",
      "conv2d_3 (Conv2D)            (None, 4, 4, 10)          60        \n",
      "_________________________________________________________________\n",
      "dropout_3 (Dropout)          (None, 4, 4, 10)          0         \n",
      "_________________________________________________________________\n",
      "dense (Dense)                (None, 4, 4, 32)          352       \n",
      "_________________________________________________________________\n",
      "flatten (Flatten)            (None, 512)               0         \n",
      "_________________________________________________________________\n",
      "dense_1 (Dense)              (None, 10)                5130      \n",
      "=================================================================\n",
      "Total params: 6,427\n",
      "Trainable params: 6,367\n",
      "Non-trainable params: 60\n",
      "_________________________________________________________________\n"
     ]
    }
   ],
   "source": [
    "model = Sequential([\n",
    "#input layer\n",
    "layers.Convolution2D(15, (3, 3), activation='relu', input_shape=(28,28,1)),\n",
    "layers.BatchNormalization(momentum=0.1),\n",
    "layers.Dropout(0.1),\n",
    "layers.AveragePooling2D(2),\n",
    "#convo layers1\n",
    "layers.Convolution2D(10,(1,1), activation='relu'),\n",
    "layers.BatchNormalization(momentum=0.1),\n",
    "layers.Dropout(0.1),\n",
    "#convo layers2\n",
    "layers.AveragePooling2D(2),\n",
    "layers.Convolution2D(5,(3,3), activation='relu'),\n",
    "layers.BatchNormalization(momentum=0.1),\n",
    "layers.Dropout(0.1),\n",
    "#convo layers3\n",
    "layers.Convolution2D(10,(1,1), activation='relu'),\n",
    "layers.Dropout(0.1),\n",
    "#fully connected layer1\n",
    "layers.Dense(32, activation='relu'),\n",
    "layers.Flatten(),\n",
    "#output layer\n",
    "layers.Dense(10, activation='softmax')\n",
    "])\n",
    "\n",
    "model.summary()"
   ]
  },
  {
   "cell_type": "markdown",
   "metadata": {
    "id": "bg0GLDdGNzSf"
   },
   "source": [
    "## FORGET ABOUT CNN, FCNN IS THE WAY TO GO"
   ]
  },
  {
   "cell_type": "markdown",
   "metadata": {
    "colab": {
     "base_uri": "https://localhost:8080/"
    },
    "id": "6SWdcrj3_tvv",
    "outputId": "79ba96a8-6d36-4303-b6e7-862191b988cf"
   },
   "source": [
    "model = Sequential([\n",
    "    layers.Dense(32, activation='relu', input_shape=(28,28,1)),\n",
    "    layers.Flatten(),\n",
    "    layers.Dense(10, activation='softmax')\n",
    "])\n",
    "\n",
    "model.summary()"
   ]
  },
  {
   "cell_type": "code",
   "execution_count": 7,
   "metadata": {
    "id": "dA7nRU-s_mpP"
   },
   "outputs": [],
   "source": [
    "model.compile(loss='categorical_crossentropy',\n",
    "              optimizer='adam',\n",
    "              metrics=['accuracy']\n",
    "              )\n",
    "\n",
    "#model.fit(X_train, y_train, \n",
    "#          batch_size=8, verbose=1,shuffle=True,\n",
    "#          validation_data=(X_test, y_test))"
   ]
  },
  {
   "cell_type": "markdown",
   "metadata": {
    "id": "YV6R1V52ptP7"
   },
   "source": [
    "Network accuracy and error"
   ]
  },
  {
   "cell_type": "code",
   "execution_count": 8,
   "metadata": {
    "colab": {
     "base_uri": "https://localhost:8080/"
    },
    "id": "SSVRcjVijtHY",
    "outputId": "87a9e7f4-d3a8-4ecc-f15a-e92ee7a4234f"
   },
   "outputs": [
    {
     "name": "stdout",
     "output_type": "stream",
     "text": [
      "Accuracy on testing set:6.769999861717224%\n",
      "Error rate on testing set:93.23000013828278%\n",
      "Accuracy on training set:7.154285907745361%\n",
      "Error rate on training set:92.84571409225464%\n"
     ]
    }
   ],
   "source": [
    "acc_meter.update_state(tf.argmax(model.predict(X_test), axis=1), tf.argmax(y_test, axis=1))\n",
    "print(\"Accuracy on testing set:{acc}%\".format(acc=acc_meter.result().numpy()*100))\n",
    "print(\"Error rate on testing set:{err}%\".format(err=(1-acc_meter.result().numpy())*100))\n",
    "acc_meter.update_state(tf.argmax(model.predict(X_train), axis=1), tf.argmax(y_train, axis=1))\n",
    "print(\"Accuracy on training set:{acc}%\".format(acc=acc_meter.result().numpy()*100))\n",
    "print(\"Error rate on training set:{err}%\".format(err=(1-acc_meter.result().numpy())*100))"
   ]
  },
  {
   "cell_type": "markdown",
   "metadata": {
    "id": "1ptOJ9miprDS"
   },
   "source": [
    "loss"
   ]
  },
  {
   "cell_type": "code",
   "execution_count": 9,
   "metadata": {
    "id": "V_omnjFA5lOh"
   },
   "outputs": [],
   "source": [
    "#cce = tf.keras.losses.CategoricalCrossentropy()\n",
    "#cce(y_train, model.predict(X_train))"
   ]
  },
  {
   "cell_type": "code",
   "execution_count": 10,
   "metadata": {
    "id": "c1Q4nna4YeCz"
   },
   "outputs": [],
   "source": [
    "#we don't need one-hot to train it's for tf.fit(). To compute tf.argmax each loop is a waste of resources\n",
    "y_train = tf.argmax(y_train, axis=1)"
   ]
  },
  {
   "cell_type": "markdown",
   "metadata": {
    "id": "kYoIXfZjp4kJ"
   },
   "source": [
    "Perpare batches if we were doing SGD-like method. <br>\n",
    "Some data are removed if size of dataset / batch_size is not an integer"
   ]
  },
  {
   "cell_type": "code",
   "execution_count": 11,
   "metadata": {
    "id": "lMeNPbTi_E04"
   },
   "outputs": [],
   "source": [
    "#A method always modifing X_train_sgd and y_train_sgd\n",
    "def make_batch(batch_size):\n",
    "  global X_train_sgd, y_train_sgd\n",
    "  if len(X_train) % batch_size == 0:\n",
    "    X_train_sgd = tf.reshape(X_train, [-1, batch_size, 28, 28, 1])\n",
    "    y_train_sgd = tf.reshape(y_train, [-1, batch_size])\n",
    "  else:\n",
    "    #Remove some samples if can't rehape \n",
    "    len_remove = len(X_train) % batch_size\n",
    "    X_train_sgd = tf.reshape(X_train[:-len_remove], [-1, batch_size, 28, 28, 1])\n",
    "    y_train_sgd = tf.reshape(y_train[:-len_remove], [-1, batch_size])"
   ]
  },
  {
   "cell_type": "code",
   "execution_count": 12,
   "metadata": {
    "id": "_V7t28kieeVR"
   },
   "outputs": [],
   "source": [
    "X_train_sgd = []\n",
    "y_train_sgd = []\n",
    "if sgd_like == True:\n",
    "  make_batch(batch_size)"
   ]
  },
  {
   "cell_type": "markdown",
   "metadata": {
    "id": "ROmBNKL2Pw2u"
   },
   "source": [
    "# Fitness "
   ]
  },
  {
   "cell_type": "code",
   "execution_count": 13,
   "metadata": {
    "id": "CuGqTK0NeeVR"
   },
   "outputs": [],
   "source": [
    "#Some helper varibles\n",
    "i = 0\n",
    "cycles_stucked = 0\n",
    "k=0\n",
    "tmp = 0\n",
    "\n",
    "#fitness_func uses acc matrix as fitness.\n",
    "def fitness_func(solution, sol_idx):\n",
    "\n",
    "    global keras_ga, model, i, cycles_stucked ,X_train, y_train, k\n",
    "    solution_fitness = 0\n",
    "    model_weights_matrix = pygad.kerasga.model_weights_as_matrix(model=model,\n",
    "                                                                 weights_vector=solution)\n",
    "\n",
    "    model.set_weights(weights=model_weights_matrix)\n",
    "\n",
    "    #if perfer to use loss instead\n",
    "    #solution_fitness = 1/cce(model.predict(X_train), y_train).numpy()\n",
    "\n",
    "    if sgd_like == True:\n",
    "      #update acc_meter\n",
    "      acc_meter.update_state(tf.argmax(model.predict(X_train_sgd[k]), axis=1), y_train_sgd[k])\n",
    "      solution_fitness = acc_meter.result().numpy() * 100\n",
    "      acc_meter.reset_states()\n",
    "    else:\n",
    "      acc_meter.update_state(tf.argmax(model.predict(X_train), axis=1), y_train)\n",
    "      solution_fitness = acc_meter.result().numpy() * 100\n",
    "      acc_meter.reset_states()\n",
    "    return solution_fitness"
   ]
  },
  {
   "cell_type": "markdown",
   "metadata": {
    "id": "N1eTVN72hDnR"
   },
   "source": [
    "# Crossover function"
   ]
  },
  {
   "cell_type": "code",
   "execution_count": 14,
   "metadata": {
    "id": "52QeidT1oTdx"
   },
   "outputs": [],
   "source": [
    "def crossover_func(parents, offspring_size, ga_instance):\n",
    "  global cycles_stucked, tmp, parent1\n",
    "  offspring = []\n",
    "  idx = 0\n",
    "\n",
    "  #Standard offspring method from https://pygad.readthedocs.io/en/latest/README_pygad_ReadTheDocs.html#life-cycle-of-pygad\n",
    "  while len(offspring) != offspring_size[0]:\n",
    "    parent1 = parents[idx % parents.shape[0], :].copy()\n",
    "    parent2 = parents[(idx + 1) % parents.shape[0], :].copy()\n",
    "    random_split_point = numpy.random.choice(range(offspring_size[0]))\n",
    "    parent1[random_split_point:] = parent2[random_split_point:]\n",
    "    offspring.append(parent1)\n",
    "    idx += 1\n",
    "\n",
    "  offspring = numpy.array(offspring)\n",
    "  \n",
    "  if introduce_new_pop and cycles_stucked == max_cycles_stucked:\n",
    "    #replace the first num_introduce with random variables\n",
    "    offspring[:num_introduce] = tf.random.truncated_normal(offspring[:num_introduce].shape).numpy()\n",
    "    print('New gene added')\n",
    "    #Only want to do this once\n",
    "    cycles_stucked = 0\n",
    "\n",
    "  return numpy.array(offspring)"
   ]
  },
  {
   "cell_type": "markdown",
   "metadata": {
    "id": "uMq0ymNksDWa"
   },
   "source": [
    "# callback"
   ]
  },
  {
   "cell_type": "code",
   "execution_count": 15,
   "metadata": {
    "id": "Ymw9h30fsBTr"
   },
   "outputs": [],
   "source": [
    "def callback_generation(ga_instance):\n",
    "    global i, k, cycles_stucked, tmp\n",
    "    print(\"Generation = {generation}\".format(generation=ga_instance.generations_completed))\n",
    "    print(\"Fitness    = {fitness}\".format(fitness=ga_instance.best_solution()[1]))\n",
    "    #keep track of generation\n",
    "    i += 1\n",
    "    if sgd_like == True:\n",
    "      if i % (1 * epoch) == 0:\n",
    "        #select random data from reshaped dataset to train\n",
    "        k = numpy.random.randint(0, len(X_train_sgd)-1)\n",
    "\n",
    "    if ga_instance.best_solution()[1] == tmp:\n",
    "      cycles_stucked += 1\n",
    "      if dynamic_batch_size and cycles_stucked == max_cycles_stucked:\n",
    "        #increase batch size. Up until only 1 batch with all samples avaliable\n",
    "        make_batch(min(X_train_sgd.shape[1]+batch_increase, X_train_sgd.shape[0]*X_train_sgd.shape[1]))\n",
    "        print(\"Batch size increased -> new shape: \",X_train_sgd.shape)\n",
    "        #Otherwise introduce_new_pop from cross over will never be True. \n",
    "        if not introduce_new_pop:\n",
    "          #keep track of cycles stucked\n",
    "          cycles_stucked = 0\n",
    "    else:\n",
    "      cycles_stucked = 0\n",
    "    #update tmp\n",
    "    tmp = ga_instance.best_solution()[1]"
   ]
  },
  {
   "cell_type": "markdown",
   "metadata": {
    "id": "8rfuRuDMuCfg"
   },
   "source": [
    "# Run"
   ]
  },
  {
   "cell_type": "markdown",
   "metadata": {
    "id": "0ektLvZqDuT8"
   },
   "source": [
    "As observed, rate of accurate increase getting worse and woser. As if a log function. Indeed, it's when GA reached local best. Although over time, GA will get of there (smh given enough time you can brute force AES), but by introducing new genes might* help accerate this process."
   ]
  },
  {
   "cell_type": "code",
   "execution_count": null,
   "metadata": {
    "colab": {
     "base_uri": "https://localhost:8080/"
    },
    "id": "u0e-_WFceeVS",
    "outputId": "30b5d1fc-fbd0-48e6-d97f-18890d1604a7"
   },
   "outputs": [],
   "source": [
    "keras_ga = pygad.kerasga.KerasGA(model=model,\n",
    "                                 num_solutions=num_solution)\n",
    "\n",
    "\n",
    "# Prepare the PyGAD parameters. Check the documentation for more information: https://pygad.readthedocs.io/en/latest/README_pygad_ReadTheDocs.html#pygad-ga-class\n",
    "# Use the pre-existing model weight as init population. \n",
    "initial_population = numpy.tile(pygad.kerasga.model_weights_as_vector(model), (num_solution, 1))\n",
    "\n",
    "\n",
    "ga_instance = pygad.GA(num_generations=num_generations,\n",
    "                       num_parents_mating=num_parents_mating,\n",
    "                       initial_population=initial_population,\n",
    "                       fitness_func=fitness_func,\n",
    "                       keep_parents=keep_parents,\n",
    "                       mutation_type=mutation_type,\n",
    "                       parent_selection_type=parent_selection_type,\n",
    "                       crossover_type=crossover_func,\n",
    "                       mutation_num_genes=mutation_num_genes,\n",
    "                       on_generation=callback_generation)\n",
    "\n",
    "ga_instance.run()"
   ]
  },
  {
   "cell_type": "markdown",
   "metadata": {
    "id": "KQYVcXPuuFMx"
   },
   "source": [
    "# Stat"
   ]
  },
  {
   "cell_type": "code",
   "execution_count": 17,
   "metadata": {
    "colab": {
     "base_uri": "https://localhost:8080/",
     "height": 402
    },
    "id": "gKFLa_wLeeVT",
    "outputId": "e4b7c156-a130-427e-b703-e5453ce0e03b"
   },
   "outputs": [
    {
     "data": {
      "image/png": "[encoded data removed]",
      "text/plain": [
       "<Figure size 432x288 with 1 Axes>"
      ]
     },
     "metadata": {
      "needs_background": "light"
     },
     "output_type": "display_data"
    },
    {
     "name": "stdout",
     "output_type": "stream",
     "text": [
      "Fitness value of the best solution = 56.599998474121094\n",
      "Index of the best solution : 8\n",
      "Accuracy on testing set:57.66000151634216%\n",
      "Error rate on testing set:42.33999848365784%\n",
      "Accuracy on training set:56.777143478393555%\n",
      "Error rate on training set:43.222856521606445%\n"
     ]
    }
   ],
   "source": [
    "\n",
    "# After the generations complete, some plots are showed that summarize how the outputs/fitness values evolve over generations.\n",
    "ga_instance.plot_fitness(title=\"PyGAD & Keras - Iteration vs. Fitness\", linewidth=4)\n",
    "\n",
    "# Returning the details of the best solution.\n",
    "solution, solution_fitness, solution_idx = ga_instance.best_solution()\n",
    "print(\"Fitness value of the best solution = {solution_fitness}\".format(solution_fitness=solution_fitness))\n",
    "print(\"Index of the best solution : {solution_idx}\".format(solution_idx=solution_idx))\n",
    "\n",
    "# Fetch the parameters of the best solution.\n",
    "best_solution_weights = pygad.kerasga.model_weights_as_matrix(model=model,\n",
    "                                                              weights_vector=solution)\n",
    "model.set_weights(best_solution_weights)\n",
    "\n",
    "acc_meter.update_state(tf.argmax(model.predict(X_test), axis=1), tf.argmax(y_test, axis=1))\n",
    "print(\"Accuracy on testing set:{acc}%\".format(acc=acc_meter.result().numpy()*100))\n",
    "print(\"Error rate on testing set:{err}%\".format(err=(1-acc_meter.result().numpy())*100))\n",
    "\n",
    "acc_meter.update_state(tf.argmax(model.predict(X_train), axis=1), y_train)\n",
    "print(\"Accuracy on training set:{acc}%\".format(acc=acc_meter.result().numpy()*100))\n",
    "print(\"Error rate on training set:{err}%\".format(err=(1-acc_meter.result().numpy())*100))"
   ]
  },
  {
   "cell_type": "markdown",
   "metadata": {
    "id": "tmkaN8GtfaSl"
   },
   "source": [
    "The best run I got is 58%, which I got by running the entire training set. It took my 23 hours to finish 500 cycles with i7 10700f and gtx 2060 running in wsl2 on windows 11. It got stuck on 58% for the last 142 cycles with everything set to false. Still playing around with it and we'll see if I can get to to reach 90% without waiting for days."
   ]
  },
  {
   "cell_type": "markdown",
   "metadata": {
    "id": "ggp61hKAhkBv"
   },
   "source": [
    "I am gonna to try something new. Use GA to find the best seed that can actually go up to 90%."
   ]
  }
 ],
 "metadata": {
  "accelerator": "GPU",
  "colab": {
   "collapsed_sections": [],
   "name": "Copy_of_kerasGA.ipynb",
   "provenance": []
  },
  "kernelspec": {
   "display_name": "Python 3",
   "language": "python",
   "name": "python3"
  },
  "language_info": {
   "codemirror_mode": {
    "name": "ipython",
    "version": 3
   },
   "file_extension": ".py",
   "mimetype": "text/x-python",
   "name": "python",
   "nbconvert_exporter": "python",
   "pygments_lexer": "ipython3",
   "version": "3.8.3"
  }
 },
 "nbformat": 4,
 "nbformat_minor": 4
}

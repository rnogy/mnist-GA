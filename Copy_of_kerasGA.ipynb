{
  "nbformat": 4,
  "nbformat_minor": 0,
  "metadata": {
    "colab": {
      "name": "Copy_of_kerasGA.ipynb",
      "provenance": [],
      "collapsed_sections": []
    },
    "kernelspec": {
      "display_name": "Python 3 (ipykernel)",
      "language": "python",
      "name": "python3"
    },
    "language_info": {
      "codemirror_mode": {
        "name": "ipython",
        "version": 3
      },
      "file_extension": ".py",
      "mimetype": "text/x-python",
      "name": "python",
      "nbconvert_exporter": "python",
      "pygments_lexer": "ipython3",
      "version": "3.8.10"
    },
    "accelerator": "GPU"
  },
  "cells": [
    {
      "cell_type": "code",
      "metadata": {
        "id": "8lqbeWAze76Q",
        "scrolled": true
      },
      "source": [
        "#!pip install pygad"
      ],
      "execution_count": 1,
      "outputs": []
    },
    {
      "cell_type": "markdown",
      "metadata": {
        "id": "Wu_yNfc2kEBP"
      },
      "source": [
        "Modified version of pygad samples. https://pygad.readthedocs.io/en/latest/README_pygad_ReadTheDocs.html#life-cycle-of-pygad <br>\n",
        "Model inspired and modified from http://uhurumkate.blogspot.com/2018/06/tiny-model-for-mnist-dataset.html"
      ]
    },
    {
      "cell_type": "markdown",
      "metadata": {
        "id": "-N1PbHsWQWlW"
      },
      "source": [
        "You're highly encouraged to use a GPU as it's going to spent most resources on predicting and calculating acc. Please also note that pygad library only use CPU paralleal in some cases."
      ]
    },
    {
      "cell_type": "markdown",
      "metadata": {
        "id": "gXxmJd3ai2yd"
      },
      "source": [
        "The highest acc was achieved with everything set to False, and with 23 hours of training. 500 cycles and 58% acc"
      ]
    },
    {
      "cell_type": "code",
      "metadata": {
        "id": "i5L3JMNgS-L0"
      },
      "source": [
        "import tensorflow as tf\n",
        "import tensorflow.keras\n",
        "from tensorflow.keras import losses, datasets, layers, optimizers, Sequential, metrics\n",
        "import pygad.kerasga\n",
        "import numpy\n",
        "import pygad"
      ],
      "execution_count": 2,
      "outputs": []
    },
    {
      "cell_type": "markdown",
      "metadata": {
        "id": "zdZ1owxPPsRn"
      },
      "source": [
        "# Hyper param"
      ]
    },
    {
      "cell_type": "code",
      "metadata": {
        "id": "JGFxRvr3eWGX"
      },
      "source": [
        "acc_meter = tf.keras.metrics.Accuracy()\n",
        "\n",
        "#Instead of training a entire dataset, do small batches.\n",
        "sgd_like = True\n",
        "\n",
        "#introduce new population when stucked. Often time it'll stuck in local best solution.\n",
        "introduce_new_pop = True\n",
        "\n",
        "#increase batch size when stcuked.\n",
        "#Error occurs when using google colab. Not sure if it's google issue. \n",
        "#Will try on my desktop once I return next friday.\n",
        "dynamic_batch_size = False"
      ],
      "execution_count": 3,
      "outputs": []
    },
    {
      "cell_type": "code",
      "metadata": {
        "id": "hl1q_FZnfTG1"
      },
      "source": [
        "#num cyckes\n",
        "num_generations = 100\n",
        "\n",
        "#num soltions\n",
        "num_solution= 10\n",
        "\n",
        "#the following two param only works if introduce_new_pop = True\n",
        "#Maxium cycles stuck before introducing new population to the pool.\n",
        "max_cycles_stucked = 20\n",
        "#Number of population being replaced with new random population. Must be 0 < x <= num_solution\n",
        "num_introduce = 7\n",
        "\n",
        "#The follow two param have effect only when sgd_like = True\n",
        "#number of cycles you want on a single batch. \n",
        "epoch = 20\n",
        "#number of samples per batch\n",
        "batch_size = 1000\n",
        "\n",
        "#number batch increase feed into prediction. only have effect if sgd_like = True\n",
        "#Ex. batch size 300 -> 300 + 300 = 600. Note that some data will be lose during the process\n",
        "batch_increase = 500\n",
        "\n",
        "#Typical pygad params\n",
        "num_parents_mating = int(num_solution * .7)\n",
        "parent_selection_type = \"sss\"\n",
        "mutation_type=\"adaptive\"\n",
        "mutation_num_genes=(90, 80)\n",
        "keep_parents = 3"
      ],
      "execution_count": 4,
      "outputs": []
    },
    {
      "cell_type": "markdown",
      "metadata": {
        "id": "Mm_Hl7BAgrzv"
      },
      "source": [
        "# dataset"
      ]
    },
    {
      "cell_type": "code",
      "metadata": {
        "id": "8Rkq5w4dequA"
      },
      "source": [
        "#load mnist dataset\n",
        "(X_train, y_train), (X_test, y_test) = datasets.mnist.load_data()\n",
        "#normalize data\n",
        "X_train = 2*tf.convert_to_tensor(X_train, tf.float32)/255.-1\n",
        "#[b, 28, 28] -> [b, 28, 28, 1]\n",
        "X_train = tf.reshape(X_train, (-1, 28,28,1))\n",
        "X_test = 2*tf.convert_to_tensor(X_test, tf.float32)/255.-1\n",
        "X_test = tf.reshape(X_test, (-1, 28,28,1))\n",
        "y_train = tf.convert_to_tensor(y_train, tf.int32)\n",
        "#[b] -> [b, 10]\n",
        "y_train = tf.one_hot(y_train, 20)\n",
        "y_test = tf.convert_to_tensor(y_test, tf.int32)\n",
        "y_test = tf.one_hot(y_test, 10)"
      ],
      "execution_count": 5,
      "outputs": []
    },
    {
      "cell_type": "markdown",
      "metadata": {
        "id": "tGsLcsClp1P6"
      },
      "source": [
        "# Model"
      ]
    },
    {
      "cell_type": "markdown",
      "metadata": {
        "id": "mYvgt7ULiR5L"
      },
      "source": [
        "We want a very small model for the increase in param will increase the cycles GA needs to run </ba>\n",
        "Model parameter = 2665 with acc ~ 96% on both train/testing sets (trained with triditional method).<br>\n",
        "EDIT: <br>\n",
        " I relized that the model **DO** have impact. For example, when l`ayers.Dense(3, activation='relu')`, you'll have 1.8k param. You might think it'll be easier for the model to converge. Yet, `layers.Dense(10, activation='relu')` is faster. `layers.Dense(20, activation='relu')` is even better with 4.5k param. This indicates we don't need a small model, but a GOOD model (define good)."
      ]
    },
    {
      "cell_type": "code",
      "metadata": {
        "colab": {
          "base_uri": "https://localhost:8080/"
        },
        "id": "dW1AXe0zci0T",
        "outputId": "d7bd6664-97c1-48e7-82c7-c34beb14e4e9"
      },
      "source": [
        "model = Sequential([\n",
        "#input layer\n",
        "layers.Convolution2D(15, (3, 3), activation='relu', input_shape=(28,28,1)),\n",
        "layers.BatchNormalization(momentum=0.1),\n",
        "layers.Dropout(0.1),\n",
        "layers.AveragePooling2D(2),\n",
        "#convo layers1\n",
        "layers.Convolution2D(10,(1,1), activation='relu'),\n",
        "layers.BatchNormalization(momentum=0.1),\n",
        "layers.Dropout(0.1),\n",
        "#convo layers2\n",
        "layers.AveragePooling2D(2),\n",
        "layers.Convolution2D(5,(3,3), activation='relu'),\n",
        "layers.BatchNormalization(momentum=0.1),\n",
        "layers.Dropout(0.1),\n",
        "#convo layers3\n",
        "layers.Convolution2D(10,(1,1), activation='relu'),\n",
        "layers.Dropout(0.1),\n",
        "#fully connected layer1\n",
        "layers.Dense(32, activation='relu'),\n",
        "layers.Flatten(),\n",
        "#output layer\n",
        "layers.Dense(10, activation='softmax')\n",
        "])\n",
        "\n",
        "model.summary()"
      ],
      "execution_count": 6,
      "outputs": [
        {
          "output_type": "stream",
          "name": "stdout",
          "text": [
            "Model: \"sequential\"\n",
            "_________________________________________________________________\n",
            "Layer (type)                 Output Shape              Param #   \n",
            "=================================================================\n",
            "conv2d (Conv2D)              (None, 26, 26, 15)        150       \n",
            "_________________________________________________________________\n",
            "batch_normalization (BatchNo (None, 26, 26, 15)        60        \n",
            "_________________________________________________________________\n",
            "dropout (Dropout)            (None, 26, 26, 15)        0         \n",
            "_________________________________________________________________\n",
            "average_pooling2d (AveragePo (None, 13, 13, 15)        0         \n",
            "_________________________________________________________________\n",
            "conv2d_1 (Conv2D)            (None, 13, 13, 10)        160       \n",
            "_________________________________________________________________\n",
            "batch_normalization_1 (Batch (None, 13, 13, 10)        40        \n",
            "_________________________________________________________________\n",
            "dropout_1 (Dropout)          (None, 13, 13, 10)        0         \n",
            "_________________________________________________________________\n",
            "average_pooling2d_1 (Average (None, 6, 6, 10)          0         \n",
            "_________________________________________________________________\n",
            "conv2d_2 (Conv2D)            (None, 4, 4, 5)           455       \n",
            "_________________________________________________________________\n",
            "batch_normalization_2 (Batch (None, 4, 4, 5)           20        \n",
            "_________________________________________________________________\n",
            "dropout_2 (Dropout)          (None, 4, 4, 5)           0         \n",
            "_________________________________________________________________\n",
            "conv2d_3 (Conv2D)            (None, 4, 4, 10)          60        \n",
            "_________________________________________________________________\n",
            "dropout_3 (Dropout)          (None, 4, 4, 10)          0         \n",
            "_________________________________________________________________\n",
            "dense (Dense)                (None, 4, 4, 32)          352       \n",
            "_________________________________________________________________\n",
            "flatten (Flatten)            (None, 512)               0         \n",
            "_________________________________________________________________\n",
            "dense_1 (Dense)              (None, 10)                5130      \n",
            "=================================================================\n",
            "Total params: 6,427\n",
            "Trainable params: 6,367\n",
            "Non-trainable params: 60\n",
            "_________________________________________________________________\n"
          ]
        }
      ]
    },
    {
      "cell_type": "code",
      "metadata": {
        "id": "uy2Zi5Wdip3p"
      },
      "source": [
        "model.compile(loss='categorical_crossentropy',\n",
        "              optimizer='adam',\n",
        "              metrics=['accuracy']\n",
        "              )\n",
        "\n",
        "#model.fit(X_train, y_train, \n",
        "#          batch_size=8, verbose=1,shuffle=True,\n",
        "#          validation_data=(X_test, y_test))"
      ],
      "execution_count": 7,
      "outputs": []
    },
    {
      "cell_type": "markdown",
      "metadata": {
        "id": "YV6R1V52ptP7"
      },
      "source": [
        "Network accuracy and error"
      ]
    },
    {
      "cell_type": "code",
      "metadata": {
        "colab": {
          "base_uri": "https://localhost:8080/"
        },
        "id": "SSVRcjVijtHY",
        "outputId": "daddb019-ffce-4774-cf4d-b5e7f10cec57"
      },
      "source": [
        "acc_meter.update_state(tf.argmax(model.predict(X_test), axis=1), tf.argmax(y_test, axis=1))\n",
        "print(\"Accuracy on testing set:{acc}%\".format(acc=acc_meter.result().numpy()*100))\n",
        "print(\"Error rate on testing set:{err}%\".format(err=(1-acc_meter.result().numpy())*100))\n",
        "acc_meter.update_state(tf.argmax(model.predict(X_train), axis=1), tf.argmax(y_train, axis=1))\n",
        "print(\"Accuracy on training set:{acc}%\".format(acc=acc_meter.result().numpy()*100))\n",
        "print(\"Error rate on training set:{err}%\".format(err=(1-acc_meter.result().numpy())*100))"
      ],
      "execution_count": 8,
      "outputs": [
        {
          "output_type": "stream",
          "name": "stdout",
          "text": [
            "Accuracy on testing set:11.969999969005585%\n",
            "Error rate on testing set:88.03000003099442%\n",
            "Accuracy on training set:11.562857031822205%\n",
            "Error rate on training set:88.4371429681778%\n"
          ]
        }
      ]
    },
    {
      "cell_type": "markdown",
      "metadata": {
        "id": "1ptOJ9miprDS"
      },
      "source": [
        "loss"
      ]
    },
    {
      "cell_type": "code",
      "metadata": {
        "id": "V_omnjFA5lOh"
      },
      "source": [
        "#cce = tf.keras.losses.CategoricalCrossentropy()\n",
        "#cce(y_train, model.predict(X_train))"
      ],
      "execution_count": 9,
      "outputs": []
    },
    {
      "cell_type": "code",
      "metadata": {
        "id": "c1Q4nna4YeCz"
      },
      "source": [
        "#we don't need one-hot to train it's for tf.fit(). To compute tf.argmax each loop is a waste of resources\n",
        "y_train = tf.argmax(y_train, axis=1)"
      ],
      "execution_count": 10,
      "outputs": []
    },
    {
      "cell_type": "markdown",
      "metadata": {
        "id": "kYoIXfZjp4kJ"
      },
      "source": [
        "Perpare batches if we were doing SGD-like method. <br>\n",
        "Some data are removed if size of dataset / batch_size is not an integer"
      ]
    },
    {
      "cell_type": "code",
      "metadata": {
        "id": "lMeNPbTi_E04"
      },
      "source": [
        "#A method always modifing X_train_sgd and y_train_sgd\n",
        "def make_batch(batch_size):\n",
        "  global X_train_sgd, y_train_sgd\n",
        "  if len(X_train) % batch_size == 0:\n",
        "    X_train_sgd = tf.reshape(X_train, [-1, batch_size, 28, 28, 1])\n",
        "    y_train_sgd = tf.reshape(y_train, [-1, batch_size])\n",
        "  else:\n",
        "    #Remove some samples if can't rehape \n",
        "    len_remove = len(X_train) % batch_size\n",
        "    X_train_sgd = tf.reshape(X_train[:-len_remove], [-1, batch_size, 28, 28, 1])\n",
        "    y_train_sgd = tf.reshape(y_train[:-len_remove], [-1, batch_size])"
      ],
      "execution_count": 11,
      "outputs": []
    },
    {
      "cell_type": "code",
      "metadata": {
        "id": "_V7t28kieeVR"
      },
      "source": [
        "X_train_sgd = []\n",
        "y_train_sgd = []\n",
        "if sgd_like == True:\n",
        "  make_batch(batch_size)"
      ],
      "execution_count": 12,
      "outputs": []
    },
    {
      "cell_type": "markdown",
      "metadata": {
        "id": "ROmBNKL2Pw2u"
      },
      "source": [
        "# Fitness "
      ]
    },
    {
      "cell_type": "code",
      "metadata": {
        "id": "CuGqTK0NeeVR"
      },
      "source": [
        "#Some helper varibles\n",
        "i = 0\n",
        "cycles_stucked = 0\n",
        "k=0\n",
        "tmp = 0\n",
        "\n",
        "#fitness_func uses acc matrix as fitness.\n",
        "def fitness_func(solution, sol_idx):\n",
        "\n",
        "    global keras_ga, model, i, cycles_stucked ,X_train, y_train, k\n",
        "    solution_fitness = 0\n",
        "    model_weights_matrix = pygad.kerasga.model_weights_as_matrix(model=model,\n",
        "                                                                 weights_vector=solution)\n",
        "\n",
        "    model.set_weights(weights=model_weights_matrix)\n",
        "\n",
        "    #if perfer to use loss instead\n",
        "    #solution_fitness = 1/cce(model.predict(X_train), y_train).numpy()\n",
        "\n",
        "    if sgd_like == True:\n",
        "      #update acc_meter\n",
        "      acc_meter.update_state(tf.argmax(model.predict(X_train_sgd[k]), axis=1), y_train_sgd[k])\n",
        "      solution_fitness = acc_meter.result().numpy() * 100\n",
        "      acc_meter.reset_states()\n",
        "    else:\n",
        "      acc_meter.update_state(tf.argmax(model.predict(X_train), axis=1), y_train)\n",
        "      solution_fitness = acc_meter.result().numpy() * 100\n",
        "      acc_meter.reset_states()\n",
        "    return solution_fitness"
      ],
      "execution_count": 13,
      "outputs": []
    },
    {
      "cell_type": "markdown",
      "metadata": {
        "id": "N1eTVN72hDnR"
      },
      "source": [
        "# Crossover function"
      ]
    },
    {
      "cell_type": "code",
      "metadata": {
        "id": "52QeidT1oTdx"
      },
      "source": [
        "def crossover_func(parents, offspring_size, ga_instance):\n",
        "  global cycles_stucked, tmp, parent1\n",
        "  offspring = []\n",
        "  idx = 0\n",
        "\n",
        "  #Standard offspring method from https://pygad.readthedocs.io/en/latest/README_pygad_ReadTheDocs.html#life-cycle-of-pygad\n",
        "  while len(offspring) != offspring_size[0]:\n",
        "    parent1 = parents[idx % parents.shape[0], :].copy()\n",
        "    parent2 = parents[(idx + 1) % parents.shape[0], :].copy()\n",
        "    random_split_point = numpy.random.choice(range(offspring_size[0]))\n",
        "    parent1[random_split_point:] = parent2[random_split_point:]\n",
        "    offspring.append(parent1)\n",
        "    idx += 1\n",
        "\n",
        "  offspring = numpy.array(offspring)\n",
        "  \n",
        "  if introduce_new_pop and cycles_stucked == max_cycles_stucked:\n",
        "    #replace the first num_introduce with random variables\n",
        "    offspring[:num_introduce] = tf.random.truncated_normal(offspring[:num_introduce].shape).numpy()\n",
        "    print('New gene added')\n",
        "    #Only want to do this once\n",
        "    cycles_stucked = 0\n",
        "\n",
        "  return numpy.array(offspring)"
      ],
      "execution_count": 14,
      "outputs": []
    },
    {
      "cell_type": "markdown",
      "metadata": {
        "id": "uMq0ymNksDWa"
      },
      "source": [
        "# callback"
      ]
    },
    {
      "cell_type": "code",
      "metadata": {
        "id": "Ymw9h30fsBTr"
      },
      "source": [
        "def callback_generation(ga_instance):\n",
        "    global i, k, cycles_stucked, tmp\n",
        "    print(\"Generation = {generation}\".format(generation=ga_instance.generations_completed))\n",
        "    print(\"Fitness    = {fitness}\".format(fitness=ga_instance.best_solution()[1]))\n",
        "    #keep track of generation\n",
        "    i += 1\n",
        "    if sgd_like == True:\n",
        "      if i % (1 * epoch) == 0:\n",
        "        #select random data from reshaped dataset to train\n",
        "        k = numpy.random.randint(0, len(X_train_sgd)-1)\n",
        "\n",
        "    if ga_instance.best_solution()[1] == tmp:\n",
        "      cycles_stucked += 1\n",
        "      if dynamic_batch_size and cycles_stucked == max_cycles_stucked:\n",
        "        #increase batch size. Up until only 1 batch with all samples avaliable\n",
        "        make_batch(min(X_train_sgd.shape[1]+batch_increase, X_train_sgd.shape[0]*X_train_sgd.shape[1]))\n",
        "        print(\"Batch size increased -> new shape: \",X_train_sgd.shape)\n",
        "        #Otherwise introduce_new_pop from cross over will never be True. \n",
        "        if not introduce_new_pop:\n",
        "          #keep track of cycles stucked\n",
        "          cycles_stucked = 0\n",
        "    else:\n",
        "      cycles_stucked = 0\n",
        "    #update tmp\n",
        "    tmp = ga_instance.best_solution()[1]"
      ],
      "execution_count": 15,
      "outputs": []
    },
    {
      "cell_type": "markdown",
      "metadata": {
        "id": "8rfuRuDMuCfg"
      },
      "source": [
        "# Run"
      ]
    },
    {
      "cell_type": "markdown",
      "metadata": {
        "id": "0ektLvZqDuT8"
      },
      "source": [
        "As observed, rate of accurate increase getting worse and woser. As if a log function. Indeed, it's when GA reached local best. Although over time, GA will get of there (smh given enough time you can brute force AES), but by introducing new genes might* help accerate this process."
      ]
    },
    {
      "cell_type": "code",
      "metadata": {
        "colab": {
          "base_uri": "https://localhost:8080/"
        },
        "id": "u0e-_WFceeVS",
        "outputId": "bd51e331-2700-45dd-de4f-f00a903035ee"
      },
      "source": [
        "keras_ga = pygad.kerasga.KerasGA(model=model,\n",
        "                                 num_solutions=num_solution)\n",
        "\n",
        "\n",
        "# Prepare the PyGAD parameters. Check the documentation for more information: https://pygad.readthedocs.io/en/latest/README_pygad_ReadTheDocs.html#pygad-ga-class\n",
        "# Use the pre-existing model weight as init population. \n",
        "initial_population = numpy.tile(pygad.kerasga.model_weights_as_vector(model), (num_solution, 1))\n",
        "\n",
        "\n",
        "ga_instance = pygad.GA(num_generations=num_generations,\n",
        "                       num_parents_mating=num_parents_mating,\n",
        "                       initial_population=initial_population,\n",
        "                       fitness_func=fitness_func,\n",
        "                       keep_parents=keep_parents,\n",
        "                       mutation_type=mutation_type,\n",
        "                       parent_selection_type=parent_selection_type,\n",
        "                       crossover_type=crossover_func,\n",
        "                       mutation_num_genes=mutation_num_genes,\n",
        "                       on_generation=callback_generation)\n",
        "\n",
        "ga_instance.run()"
      ],
      "execution_count": 16,
      "outputs": [
        {
          "output_type": "stream",
          "name": "stdout",
          "text": [
            "Generation = 1\n",
            "Fitness    = 11.54366210103035\n",
            "Generation = 2\n",
            "Fitness    = 11.54366210103035\n",
            "Generation = 3\n",
            "Fitness    = 16.200000047683716\n",
            "Generation = 4\n",
            "Fitness    = 13.600000739097595\n",
            "Generation = 5\n",
            "Fitness    = 16.200000047683716\n",
            "Generation = 6\n",
            "Fitness    = 16.200000047683716\n",
            "Generation = 7\n",
            "Fitness    = 16.200000047683716\n",
            "Generation = 8\n",
            "Fitness    = 16.79999977350235\n",
            "Generation = 9\n",
            "Fitness    = 17.399999499320984\n",
            "Generation = 10\n",
            "Fitness    = 17.399999499320984\n",
            "Generation = 11\n",
            "Fitness    = 17.399999499320984\n",
            "Generation = 12\n",
            "Fitness    = 19.300000369548798\n",
            "Generation = 13\n",
            "Fitness    = 19.300000369548798\n",
            "Generation = 14\n",
            "Fitness    = 19.300000369548798\n",
            "Generation = 15\n",
            "Fitness    = 19.300000369548798\n",
            "Generation = 16\n",
            "Fitness    = 22.100000083446503\n",
            "Generation = 17\n",
            "Fitness    = 22.100000083446503\n",
            "Generation = 18\n",
            "Fitness    = 22.100000083446503\n",
            "Generation = 19\n",
            "Fitness    = 22.100000083446503\n",
            "Generation = 20\n",
            "Fitness    = 22.100000083446503\n",
            "Generation = 21\n",
            "Fitness    = 22.100000083446503\n",
            "Generation = 22\n",
            "Fitness    = 22.100000083446503\n",
            "Generation = 23\n",
            "Fitness    = 22.100000083446503\n",
            "Generation = 24\n",
            "Fitness    = 22.100000083446503\n",
            "Generation = 25\n",
            "Fitness    = 22.100000083446503\n",
            "Generation = 26\n",
            "Fitness    = 22.100000083446503\n",
            "Generation = 27\n",
            "Fitness    = 22.100000083446503\n",
            "Generation = 28\n",
            "Fitness    = 22.100000083446503\n",
            "Generation = 29\n",
            "Fitness    = 23.600000143051147\n",
            "Generation = 30\n",
            "Fitness    = 23.600000143051147\n",
            "Generation = 31\n",
            "Fitness    = 24.300000071525574\n",
            "Generation = 32\n",
            "Fitness    = 24.300000071525574\n",
            "Generation = 33\n",
            "Fitness    = 24.300000071525574\n",
            "Generation = 34\n",
            "Fitness    = 24.300000071525574\n",
            "Generation = 35\n",
            "Fitness    = 24.300000071525574\n",
            "Generation = 36\n",
            "Fitness    = 25.40000081062317\n",
            "Generation = 37\n",
            "Fitness    = 25.40000081062317\n",
            "Generation = 38\n",
            "Fitness    = 25.40000081062317\n",
            "Generation = 39\n",
            "Fitness    = 25.40000081062317\n",
            "Generation = 40\n",
            "Fitness    = 25.40000081062317\n",
            "Generation = 41\n",
            "Fitness    = 25.40000081062317\n",
            "Generation = 42\n",
            "Fitness    = 25.40000081062317\n",
            "Generation = 43\n",
            "Fitness    = 25.7999986410141\n",
            "Generation = 44\n",
            "Fitness    = 25.7999986410141\n",
            "Generation = 45\n",
            "Fitness    = 25.7999986410141\n",
            "Generation = 46\n",
            "Fitness    = 25.7999986410141\n",
            "Generation = 47\n",
            "Fitness    = 26.199999451637268\n",
            "Generation = 48\n",
            "Fitness    = 26.199999451637268\n",
            "Generation = 49\n",
            "Fitness    = 26.199999451637268\n",
            "Generation = 50\n",
            "Fitness    = 26.199999451637268\n",
            "Generation = 51\n",
            "Fitness    = 26.199999451637268\n",
            "Generation = 52\n",
            "Fitness    = 26.199999451637268\n",
            "Generation = 53\n",
            "Fitness    = 26.199999451637268\n",
            "Generation = 54\n",
            "Fitness    = 26.199999451637268\n",
            "Generation = 55\n",
            "Fitness    = 26.199999451637268\n",
            "Generation = 56\n",
            "Fitness    = 26.199999451637268\n",
            "Generation = 57\n",
            "Fitness    = 26.199999451637268\n",
            "Generation = 58\n",
            "Fitness    = 26.199999451637268\n",
            "Generation = 59\n",
            "Fitness    = 27.300000190734863\n",
            "Generation = 60\n",
            "Fitness    = 27.300000190734863\n",
            "Generation = 61\n",
            "Fitness    = 27.300000190734863\n",
            "Generation = 62\n",
            "Fitness    = 27.300000190734863\n",
            "Generation = 63\n",
            "Fitness    = 27.300000190734863\n",
            "Generation = 64\n",
            "Fitness    = 27.300000190734863\n",
            "Generation = 65\n",
            "Fitness    = 27.300000190734863\n",
            "Generation = 66\n",
            "Fitness    = 27.300000190734863\n",
            "Generation = 67\n",
            "Fitness    = 27.300000190734863\n",
            "Generation = 68\n",
            "Fitness    = 27.300000190734863\n",
            "Generation = 69\n",
            "Fitness    = 27.300000190734863\n",
            "Generation = 70\n",
            "Fitness    = 27.300000190734863\n",
            "Generation = 71\n",
            "Fitness    = 27.300000190734863\n",
            "Generation = 72\n",
            "Fitness    = 27.300000190734863\n",
            "Generation = 73\n",
            "Fitness    = 27.300000190734863\n",
            "Generation = 74\n",
            "Fitness    = 27.300000190734863\n",
            "Generation = 75\n",
            "Fitness    = 27.300000190734863\n",
            "Generation = 76\n",
            "Fitness    = 27.300000190734863\n",
            "Generation = 77\n",
            "Fitness    = 27.700001001358032\n",
            "Generation = 78\n",
            "Fitness    = 31.400001049041748\n",
            "Generation = 79\n",
            "Fitness    = 31.400001049041748\n",
            "Generation = 80\n",
            "Fitness    = 31.400001049041748\n",
            "Generation = 81\n",
            "Fitness    = 31.400001049041748\n",
            "Generation = 82\n",
            "Fitness    = 31.799998879432678\n",
            "Generation = 83\n",
            "Fitness    = 31.799998879432678\n",
            "Generation = 84\n",
            "Fitness    = 31.799998879432678\n",
            "Generation = 85\n",
            "Fitness    = 31.799998879432678\n",
            "Generation = 86\n",
            "Fitness    = 31.799998879432678\n",
            "Generation = 87\n",
            "Fitness    = 31.799998879432678\n",
            "Generation = 88\n",
            "Fitness    = 31.799998879432678\n",
            "Generation = 89\n",
            "Fitness    = 31.799998879432678\n",
            "Generation = 90\n",
            "Fitness    = 31.799998879432678\n",
            "Generation = 91\n",
            "Fitness    = 31.799998879432678\n",
            "Generation = 92\n",
            "Fitness    = 31.799998879432678\n",
            "Generation = 93\n",
            "Fitness    = 31.799998879432678\n",
            "Generation = 94\n",
            "Fitness    = 31.799998879432678\n",
            "Generation = 95\n",
            "Fitness    = 31.799998879432678\n",
            "Generation = 96\n",
            "Fitness    = 31.799998879432678\n",
            "Generation = 97\n",
            "Fitness    = 31.799998879432678\n",
            "Generation = 98\n",
            "Fitness    = 31.799998879432678\n",
            "Generation = 99\n",
            "Fitness    = 31.799998879432678\n",
            "Generation = 100\n",
            "Fitness    = 31.799998879432678\n"
          ]
        }
      ]
    },
    {
      "cell_type": "markdown",
      "metadata": {
        "id": "KQYVcXPuuFMx"
      },
      "source": [
        "# Stat"
      ]
    },
    {
      "cell_type": "code",
      "metadata": {
        "id": "gKFLa_wLeeVT",
        "colab": {
          "base_uri": "https://localhost:8080/",
          "height": 402
        },
        "outputId": "53dc496f-1854-48c0-ce3e-85608f16b567"
      },
      "source": [
        "\n",
        "# After the generations complete, some plots are showed that summarize how the outputs/fitness values evolve over generations.\n",
        "ga_instance.plot_fitness(title=\"PyGAD & Keras - Iteration vs. Fitness\", linewidth=4)\n",
        "\n",
        "# Returning the details of the best solution.\n",
        "solution, solution_fitness, solution_idx = ga_instance.best_solution()\n",
        "print(\"Fitness value of the best solution = {solution_fitness}\".format(solution_fitness=solution_fitness))\n",
        "print(\"Index of the best solution : {solution_idx}\".format(solution_idx=solution_idx))\n",
        "\n",
        "# Fetch the parameters of the best solution.\n",
        "best_solution_weights = pygad.kerasga.model_weights_as_matrix(model=model,\n",
        "                                                              weights_vector=solution)\n",
        "model.set_weights(best_solution_weights)\n",
        "\n",
        "acc_meter.update_state(tf.argmax(model.predict(X_test), axis=1), tf.argmax(y_test, axis=1))\n",
        "print(\"Accuracy on testing set:{acc}%\".format(acc=acc_meter.result().numpy()*100))\n",
        "print(\"Error rate on testing set:{err}%\".format(err=(1-acc_meter.result().numpy())*100))\n",
        "\n",
        "acc_meter.update_state(tf.argmax(model.predict(X_train), axis=1), y_train)\n",
        "print(\"Accuracy on training set:{acc}%\".format(acc=acc_meter.result().numpy()*100))\n",
        "print(\"Error rate on training set:{err}%\".format(err=(1-acc_meter.result().numpy())*100))"
      ],
      "execution_count": 17,
      "outputs": [
        {
          "output_type": "display_data",
          "data": {
            "image/png": "[encoded data removed]",
            "text/plain": [
              "<Figure size 432x288 with 1 Axes>"
            ]
          },
          "metadata": {
            "needs_background": "light"
          }
        },
        {
          "output_type": "stream",
          "name": "stdout",
          "text": [
            "Fitness value of the best solution = 31.799998879432678\n",
            "Index of the best solution : 0\n",
            "Accuracy on testing set:32.829999923706055%\n",
            "Error rate on testing set:67.17000007629395%\n",
            "Accuracy on training set:32.08142817020416%\n",
            "Error rate on training set:67.91857182979584%\n"
          ]
        }
      ]
    },
    {
      "cell_type": "markdown",
      "metadata": {
        "id": "tmkaN8GtfaSl"
      },
      "source": [
        "The best run I got is 58%, which I got by running the entire training set. It took my 23 hours to finish 500 cycles with i7 10700f and gtx 2060 running in wsl2 on windows 11. It got stuck on 58% for the last 142 cycles with everything set to false. Still playing around with it and we'll see if I can get to to reach 90% without waiting for days."
      ]
    },
    {
      "cell_type": "markdown",
      "metadata": {
        "id": "ggp61hKAhkBv"
      },
      "source": [
        "I am gonna to try something new. \n",
        "1. Train 5 models on a medium size batch\n",
        "2. Try to generlize those 5 with rotating random small batches\n",
        "3. Cross over those 5 models\n",
        "4. Repeat 2, 3 until reach >90% or failed. <br>\n",
        "we'll see"
      ]
    }
  ]
}
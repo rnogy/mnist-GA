{
 "cells": [
  {
   "cell_type": "code",
   "execution_count": 80,
   "metadata": {
    "id": "8lqbeWAze76Q",
    "scrolled": true
   },
   "outputs": [],
   "source": [
    "#!pip install pygad"
   ]
  },
  {
   "cell_type": "markdown",
   "metadata": {
    "id": "Wu_yNfc2kEBP"
   },
   "source": [
    "Modified version of pygad samples. https://pygad.readthedocs.io/en/latest/README_pygad_ReadTheDocs.html#life-cycle-of-pygad <br>\n",
    "Model inspired and modified from http://uhurumkate.blogspot.com/2018/06/tiny-model-for-mnist-dataset.html"
   ]
  },
  {
   "cell_type": "markdown",
   "metadata": {
    "id": "-N1PbHsWQWlW"
   },
   "source": [
    "You're highly encouraged to use a GPU as it's going to spent most resources on predicting and calculating loss. Please also note that pygad library only use CPU paralleal in some cases."
   ]
  },
  {
   "cell_type": "code",
   "execution_count": 81,
   "metadata": {
    "id": "i5L3JMNgS-L0"
   },
   "outputs": [],
   "source": [
    "import tensorflow as tf\n",
    "import tensorflow.keras\n",
    "from tensorflow.keras import losses, datasets, layers, optimizers, Sequential, metrics\n",
    "import pygad.kerasga\n",
    "import numpy\n",
    "import math\n",
    "import pygad"
   ]
  },
  {
   "cell_type": "markdown",
   "metadata": {
    "id": "zdZ1owxPPsRn"
   },
   "source": [
    "# Hyper param"
   ]
  },
  {
   "cell_type": "code",
   "execution_count": 82,
   "metadata": {
    "id": "JGFxRvr3eWGX"
   },
   "outputs": [],
   "source": [
    "acc_meter = tf.keras.metrics.Accuracy()\n",
    "\n",
    "#Instead of training a entire dataset, do small batches.\n",
    "sgd_like = True\n",
    "\n",
    "#introduce new population when stucked. Often time it'll stuck in local optima.\n",
    "introduce_new_pop = False\n",
    "\n",
    "#increase batch size when stcuked.\n",
    "dynamic_batch_size = True"
   ]
  },
  {
   "cell_type": "code",
   "execution_count": 83,
   "metadata": {
    "id": "hl1q_FZnfTG1"
   },
   "outputs": [],
   "source": [
    "#num cycles\n",
    "num_generations = 5000\n",
    "\n",
    "#num soltions\n",
    "num_solution= 20\n",
    "\n",
    "#the following two param only works if introduce_new_pop = True\n",
    "#Maxium cycles stuck before introducing new population to the pool.\n",
    "max_cycles_stucked = 20\n",
    "\n",
    "#The follow two param have effect only when sgd_like = True\n",
    "#number of cycles you want on a single batch. \n",
    "epoch = 5\n",
    "#number of samples per batch\n",
    "batch_size = 3500\n",
    "\n",
    "#number batch increase feed into prediction. only have effect if sgd_like = True\n",
    "#Ex. batch size 1500 -> 1500 + 500 = 2000. Note that some data will be lose during the process\n",
    "batch_increase = 500\n",
    "\n",
    "#Typical pygad params\n",
    "num_parents_mating = int(num_solution * .5)\n",
    "parent_selection_type = \"sss\"\n",
    "mutation_type=\"adaptive\"\n",
    "mutation_num_genes=(90, 80)\n",
    "keep_parents = 0"
   ]
  },
  {
   "cell_type": "markdown",
   "metadata": {
    "id": "Mm_Hl7BAgrzv"
   },
   "source": [
    "# dataset"
   ]
  },
  {
   "cell_type": "code",
   "execution_count": 107,
   "metadata": {
    "id": "8Rkq5w4dequA"
   },
   "outputs": [],
   "source": [
    "#load mnist dataset\n",
    "(X_train, y_train), (X_test, y_test) = datasets.mnist.load_data()\n",
    "#normalize data\n",
    "X_train = 2*tf.convert_to_tensor(X_train, tf.float32)/255.-1\n",
    "#[b, 28, 28] -> [b, 28, 28, 1]\n",
    "X_train = tf.reshape(X_train, (-1, 28,28,1))\n",
    "X_test = 2*tf.convert_to_tensor(X_test, tf.float32)/255.-1\n",
    "X_test = tf.reshape(X_test, (-1, 28,28,1))\n",
    "y_train = tf.convert_to_tensor(y_train, tf.int32)\n",
    "#[b] -> [b, 10]\n",
    "y_train = tf.one_hot(y_train, 10)\n",
    "y_test = tf.convert_to_tensor(y_test, tf.int32)\n",
    "y_test = tf.one_hot(y_test, 10)"
   ]
  },
  {
   "cell_type": "markdown",
   "metadata": {
    "id": "tGsLcsClp1P6"
   },
   "source": [
    "# Model"
   ]
  },
  {
   "cell_type": "markdown",
   "metadata": {
    "id": "mYvgt7ULiR5L"
   },
   "source": [
    "We want a very small model for the increase in param will increase the cycles GA needs to run </ba>\n",
    "Model parameter = 2665 with acc ~ 96% on both train/testing sets (trained with triditional method).<br>\n",
    "EDIT: <br>\n",
    " I relized that the model **DO** have impact. For example, when l`ayers.Dense(3, activation='relu')`, you'll have 1.8k param. You might think it'll be easier for the model to converge. Yet, `layers.Dense(10, activation='relu')` is faster. `layers.Dense(20, activation='relu')` is even better with 4.5k param. This indicates we don't need a small model, but a GOOD model (define good)."
   ]
  },
  {
   "cell_type": "code",
   "execution_count": 85,
   "metadata": {
    "colab": {
     "base_uri": "https://localhost:8080/"
    },
    "id": "dW1AXe0zci0T",
    "outputId": "448e58d6-d081-4957-d126-ac6e056b422a"
   },
   "outputs": [
    {
     "name": "stdout",
     "output_type": "stream",
     "text": [
      "Model: \"sequential_2\"\n",
      "_________________________________________________________________\n",
      "Layer (type)                 Output Shape              Param #   \n",
      "=================================================================\n",
      "conv2d_8 (Conv2D)            (None, 26, 26, 15)        150       \n",
      "_________________________________________________________________\n",
      "batch_normalization_6 (Batch (None, 26, 26, 15)        60        \n",
      "_________________________________________________________________\n",
      "dropout_8 (Dropout)          (None, 26, 26, 15)        0         \n",
      "_________________________________________________________________\n",
      "average_pooling2d_4 (Average (None, 13, 13, 15)        0         \n",
      "_________________________________________________________________\n",
      "conv2d_9 (Conv2D)            (None, 13, 13, 10)        160       \n",
      "_________________________________________________________________\n",
      "batch_normalization_7 (Batch (None, 13, 13, 10)        40        \n",
      "_________________________________________________________________\n",
      "dropout_9 (Dropout)          (None, 13, 13, 10)        0         \n",
      "_________________________________________________________________\n",
      "average_pooling2d_5 (Average (None, 6, 6, 10)          0         \n",
      "_________________________________________________________________\n",
      "conv2d_10 (Conv2D)           (None, 4, 4, 5)           455       \n",
      "_________________________________________________________________\n",
      "batch_normalization_8 (Batch (None, 4, 4, 5)           20        \n",
      "_________________________________________________________________\n",
      "dropout_10 (Dropout)         (None, 4, 4, 5)           0         \n",
      "_________________________________________________________________\n",
      "conv2d_11 (Conv2D)           (None, 4, 4, 10)          60        \n",
      "_________________________________________________________________\n",
      "dropout_11 (Dropout)         (None, 4, 4, 10)          0         \n",
      "_________________________________________________________________\n",
      "dense_4 (Dense)              (None, 4, 4, 10)          110       \n",
      "_________________________________________________________________\n",
      "flatten_2 (Flatten)          (None, 160)               0         \n",
      "_________________________________________________________________\n",
      "dense_5 (Dense)              (None, 10)                1610      \n",
      "=================================================================\n",
      "Total params: 2,665\n",
      "Trainable params: 2,605\n",
      "Non-trainable params: 60\n",
      "_________________________________________________________________\n"
     ]
    }
   ],
   "source": [
    "model = Sequential([\n",
    "#input layer\n",
    "layers.Convolution2D(15, (3, 3), activation='relu', input_shape=(28,28,1)),\n",
    "layers.BatchNormalization(momentum=0.1),\n",
    "layers.Dropout(0.1),\n",
    "layers.AveragePooling2D(2),\n",
    "#convo layers1\n",
    "layers.Convolution2D(10,(1,1), activation='relu'),\n",
    "layers.BatchNormalization(momentum=0.1),\n",
    "layers.Dropout(0.1),\n",
    "#convo layers2\n",
    "layers.AveragePooling2D(2),\n",
    "layers.Convolution2D(5,(3,3), activation='relu'),\n",
    "layers.BatchNormalization(momentum=0.1),\n",
    "layers.Dropout(0.1),\n",
    "#convo layers3\n",
    "layers.Convolution2D(10,(1,1), activation='relu'),\n",
    "layers.Dropout(0.1),\n",
    "#fully connected layer1\n",
    "layers.Dense(10, activation='relu'),\n",
    "layers.Flatten(),\n",
    "#output layer\n",
    "layers.Dense(10, activation='softmax')\n",
    "])\n",
    "\n",
    "model.summary()"
   ]
  },
  {
   "cell_type": "markdown",
   "metadata": {
    "id": "bg0GLDdGNzSf"
   },
   "source": [
    "maybe FCNN do better?"
   ]
  },
  {
   "cell_type": "code",
   "execution_count": 86,
   "metadata": {
    "colab": {
     "base_uri": "https://localhost:8080/",
     "height": 54
    },
    "id": "6SWdcrj3_tvv",
    "outputId": "3d2c057d-ee0c-4d18-aae6-993f7fb48463"
   },
   "outputs": [],
   "source": [
    "#model = Sequential([\n",
    "#    layers.Dense(32, activation='relu', input_shape=(28,28,1)),\n",
    "#    layers.Flatten(),\n",
    "#    layers.Dense(10, activation='softmax')\n",
    "#])\n",
    "\n",
    "#model.summary()"
   ]
  },
  {
   "cell_type": "code",
   "execution_count": 87,
   "metadata": {},
   "outputs": [],
   "source": [
    "#so we can reset weight later\n",
    "wsave = model.get_weights()"
   ]
  },
  {
   "cell_type": "code",
   "execution_count": 88,
   "metadata": {
    "id": "dA7nRU-s_mpP"
   },
   "outputs": [
    {
     "name": "stdout",
     "output_type": "stream",
     "text": [
      "7500/7500 [==============================] - 45s 6ms/step - loss: 0.2971 - accuracy: 0.9055 - val_loss: 0.0918 - val_accuracy: 0.9722\n"
     ]
    },
    {
     "data": {
      "text/plain": [
       "<keras.callbacks.History at 0x7f3a0c5e18b0>"
      ]
     },
     "execution_count": 88,
     "metadata": {},
     "output_type": "execute_result"
    }
   ],
   "source": [
    "model.compile(loss='categorical_crossentropy',\n",
    "              optimizer='adam',\n",
    "              metrics=['accuracy']\n",
    "              )\n",
    "\n",
    "model.fit(X_train, y_train, \n",
    "          batch_size=8, verbose=1,shuffle=True,\n",
    "          validation_data=(X_test, y_test))"
   ]
  },
  {
   "cell_type": "markdown",
   "metadata": {
    "id": "YV6R1V52ptP7"
   },
   "source": [
    "Network accuracy and error"
   ]
  },
  {
   "cell_type": "code",
   "execution_count": 89,
   "metadata": {
    "colab": {
     "base_uri": "https://localhost:8080/"
    },
    "id": "SSVRcjVijtHY",
    "outputId": "3330a2cf-fe31-46f1-cf5a-8439e32503e3"
   },
   "outputs": [
    {
     "name": "stdout",
     "output_type": "stream",
     "text": [
      "Accuracy on testing set:97.21999764442444%\n",
      "Error rate on testing set:2.7800023555755615%\n",
      "Accuracy on training set:96.8571424484253%\n",
      "Error rate on training set:3.142857551574707%\n"
     ]
    }
   ],
   "source": [
    "acc_meter.update_state(tf.argmax(model.predict(X_test), axis=1), tf.argmax(y_test, axis=1))\n",
    "print(\"Accuracy on testing set:{acc}%\".format(acc=acc_meter.result().numpy()*100))\n",
    "print(\"Error rate on testing set:{err}%\".format(err=(1-acc_meter.result().numpy())*100))\n",
    "acc_meter.update_state(tf.argmax(model.predict(X_train), axis=1), tf.argmax(y_train, axis=1))\n",
    "print(\"Accuracy on training set:{acc}%\".format(acc=acc_meter.result().numpy()*100))\n",
    "print(\"Error rate on training set:{err}%\".format(err=(1-acc_meter.result().numpy())*100))"
   ]
  },
  {
   "cell_type": "markdown",
   "metadata": {},
   "source": [
    "A sensitive loss. This also have a effect on batch size -> more batch = greater loss. Useful when increase batch."
   ]
  },
  {
   "cell_type": "code",
   "execution_count": 90,
   "metadata": {},
   "outputs": [],
   "source": [
    "def some_loss(y_true, y_pred):\n",
    "  pt1 = tf.where(y_true == 0, 1E-5, y_true)\n",
    "  return tf.reduce_sum(tf.math.abs(y_pred - pt1)) ** 2"
   ]
  },
  {
   "cell_type": "code",
   "execution_count": 92,
   "metadata": {},
   "outputs": [
    {
     "name": "stdout",
     "output_type": "stream",
     "text": [
      "7500/7500 [==============================] - 32s 4ms/step - loss: 12.4302 - accuracy: 0.8589 - val_loss: 2.2515 - val_accuracy: 0.9493\n"
     ]
    },
    {
     "data": {
      "text/plain": [
       "<keras.callbacks.History at 0x7f3a0c2a8fa0>"
      ]
     },
     "execution_count": 92,
     "metadata": {},
     "output_type": "execute_result"
    }
   ],
   "source": [
    "#reset weight\n",
    "model.set_weights(wsave)\n",
    "\n",
    "model.compile(loss=some_loss,\n",
    "              optimizer='adam',\n",
    "              metrics=['accuracy']\n",
    "              )\n",
    "\n",
    "model.fit(X_train, y_train, \n",
    "          batch_size=8, verbose=1,shuffle=True,\n",
    "          validation_data=(X_test, y_test))"
   ]
  },
  {
   "cell_type": "code",
   "execution_count": 93,
   "metadata": {},
   "outputs": [
    {
     "name": "stdout",
     "output_type": "stream",
     "text": [
      "Accuracy on testing set:96.61625027656555%\n",
      "Error rate on testing set:3.3837497234344482%\n",
      "Accuracy on training set:95.76143026351929%\n",
      "Error rate on training set:4.238569736480713%\n"
     ]
    }
   ],
   "source": [
    "acc_meter.update_state(tf.argmax(model.predict(X_test), axis=1), tf.argmax(y_test, axis=1))\n",
    "print(\"Accuracy on testing set:{acc}%\".format(acc=acc_meter.result().numpy()*100))\n",
    "print(\"Error rate on testing set:{err}%\".format(err=(1-acc_meter.result().numpy())*100))\n",
    "acc_meter.update_state(tf.argmax(model.predict(X_train), axis=1), tf.argmax(y_train, axis=1))\n",
    "print(\"Accuracy on training set:{acc}%\".format(acc=acc_meter.result().numpy()*100))\n",
    "print(\"Error rate on training set:{err}%\".format(err=(1-acc_meter.result().numpy())*100))"
   ]
  },
  {
   "cell_type": "code",
   "execution_count": 94,
   "metadata": {},
   "outputs": [],
   "source": [
    "#reset weight\n",
    "model.set_weights(wsave)"
   ]
  },
  {
   "cell_type": "markdown",
   "metadata": {
    "id": "1ptOJ9miprDS"
   },
   "source": [
    "loss"
   ]
  },
  {
   "cell_type": "code",
   "execution_count": 95,
   "metadata": {
    "id": "V_omnjFA5lOh"
   },
   "outputs": [],
   "source": [
    "#cce = tf.keras.losses.CategoricalCrossentropy()\n",
    "#cce(y_train, model.predict(X_train))"
   ]
  },
  {
   "cell_type": "code",
   "execution_count": 96,
   "metadata": {
    "id": "c1Q4nna4YeCz"
   },
   "outputs": [],
   "source": [
    "#we don't need one-hot to train it's for tf.fit(). To compute tf.argmax each loop is a waste of resources\n",
    "#y_train = tf.argmax(y_train, axis=1)"
   ]
  },
  {
   "cell_type": "markdown",
   "metadata": {
    "id": "kYoIXfZjp4kJ"
   },
   "source": [
    "Perpare batches if we were doing SGD-like method. <br>\n",
    "Some data are removed if size of dataset / batch_size is not an integer"
   ]
  },
  {
   "cell_type": "code",
   "execution_count": 97,
   "metadata": {
    "id": "lMeNPbTi_E04"
   },
   "outputs": [],
   "source": [
    "#A method always modifing X_train_sgd and y_train_sgd\n",
    "def make_batch(batch_size):\n",
    "  global X_train_sgd, y_train_sgd\n",
    "  if len(X_train) % batch_size == 0:\n",
    "    X_train_sgd = tf.reshape(X_train, [-1, batch_size, 28, 28, 1])\n",
    "    #set y_train_sgd [-1, batch_size] if use acc matrix instead\n",
    "    y_train_sgd = tf.reshape(y_train, [-1, batch_size, 10])\n",
    "  else:\n",
    "    #Remove some samples if can't rehape \n",
    "    len_remove = len(X_train) % batch_size\n",
    "    X_train_sgd = tf.reshape(X_train[:-len_remove], [-1, batch_size, 28, 28, 1])\n",
    "    #set y_train_sgd [-1, batch_size] if use acc matrix instead\n",
    "    y_train_sgd = tf.reshape(y_train[:-len_remove], [-1, batch_size, 10])"
   ]
  },
  {
   "cell_type": "code",
   "execution_count": 108,
   "metadata": {
    "id": "_V7t28kieeVR"
   },
   "outputs": [],
   "source": [
    "X_train_sgd = []\n",
    "y_train_sgd = []\n",
    "make_batch(batch_size)"
   ]
  },
  {
   "cell_type": "markdown",
   "metadata": {
    "id": "ROmBNKL2Pw2u"
   },
   "source": [
    "# Fitness "
   ]
  },
  {
   "cell_type": "code",
   "execution_count": 109,
   "metadata": {
    "id": "CuGqTK0NeeVR"
   },
   "outputs": [],
   "source": [
    "#Some helper varibles\n",
    "i = 0\n",
    "cycles_stucked = 0\n",
    "k=0\n",
    "tmp = 0\n",
    "\n",
    "#fitness_func uses acc matrix as fitness.\n",
    "def fitness_func(solution, sol_idx):\n",
    "\n",
    "    global model, i, cycles_stucked ,X_train, y_train, k, y_train_sgd, X_train_sgd\n",
    "    solution_fitness = 0\n",
    "    model_weights_matrix = pygad.kerasga.model_weights_as_matrix(model=model,\n",
    "                                                                 weights_vector=solution)\n",
    "\n",
    "    model.set_weights(weights=model_weights_matrix)\n",
    "\n",
    "    #if perfer to use cce loss instead\n",
    "    #solution_fitness = 1/cce(model.predict(X_train), y_train).numpy()\n",
    "    #if perfer to use acc matrix instead, uncomment\n",
    "\n",
    "    if sgd_like == True:\n",
    "      #update acc_meter\n",
    "      #acc_meter.update_state(tf.argmax(model.predict(X_train_sgd[k]), axis=1), y_train_sgd[k])\n",
    "      #solution_fitness = acc_meter.result().numpy() * 100\n",
    "      #acc_meter.reset_states()\n",
    "      solution_fitness = some_loss(model.predict(X_train_sgd[k]), y_train_sgd[k]).numpy()\n",
    "    else:\n",
    "      #acc_meter.update_state(tf.argmax(model.predict(X_train), axis=1), y_train)\n",
    "      #solution_fitness = acc_meter.result().numpy() * 100\n",
    "      #acc_meter.reset_states()\n",
    "      solution_fitness = some_loss(model.predict(X_train), y_train).numpy()\n",
    "    #print(solution_fitness)\n",
    "    if numpy.isnan(solution_fitness):\n",
    "      return 1E-9\n",
    "    else:\n",
    "      return 1./ solution_fitness"
   ]
  },
  {
   "cell_type": "markdown",
   "metadata": {
    "id": "N1eTVN72hDnR"
   },
   "source": [
    "# Crossover function"
   ]
  },
  {
   "cell_type": "code",
   "execution_count": 110,
   "metadata": {
    "id": "52QeidT1oTdx"
   },
   "outputs": [],
   "source": [
    "def crossover_func(parents, offspring_size, ga_instance):\n",
    "  global cycles_stucked\n",
    "  offspring = []\n",
    "  idx = 0\n",
    "\n",
    "  #Standard offspring method from https://pygad.readthedocs.io/en/latest/README_pygad_ReadTheDocs.html#life-cycle-of-pygad\n",
    "  while len(offspring) != offspring_size[0]:\n",
    "    parent1 = parents[idx % parents.shape[0], :].copy()\n",
    "    parent2 = parents[(idx + 1) % parents.shape[0], :].copy()\n",
    "    random_split_point = numpy.random.choice(range(offspring_size[0]))\n",
    "    parent1[random_split_point:] = parent2[random_split_point:]\n",
    "    offspring.append(parent1)\n",
    "    idx += 1\n",
    "\n",
    "  offspring = numpy.array(offspring)\n",
    "  \n",
    "  if introduce_new_pop and cycles_stucked == max_cycles_stucked:\n",
    "    #craete new parents with new random variables\n",
    "    new_parents = tf.random.truncated_normal(offspring.shape).numpy()\n",
    "    #create an array that contain both offspring and new parents\n",
    "    new_parents = numpy.append(new_parents, offspring)\n",
    "    #shuffle\n",
    "    numpy.random.shuffle(new_parents)\n",
    "    #rehspae\n",
    "    new_parents = new_parents.reshape(-1, offspring.shape[1])\n",
    "    offspring = new_parents[:len(offspring)]\n",
    "    print('New gene added')\n",
    "    #Only want to do this once\n",
    "    cycles_stucked = 0\n",
    "\n",
    "  return numpy.array(offspring)"
   ]
  },
  {
   "cell_type": "markdown",
   "metadata": {
    "id": "uMq0ymNksDWa"
   },
   "source": [
    "# callback"
   ]
  },
  {
   "cell_type": "code",
   "execution_count": 111,
   "metadata": {
    "id": "Ymw9h30fsBTr"
   },
   "outputs": [],
   "source": [
    "def callback_generation(ga_instance):\n",
    "    global i, k, cycles_stucked, tmp, X_train_sgd, sgd_like\n",
    "    print(\"Generation = {generation}\".format(generation=ga_instance.generations_completed))\n",
    "    fitness = ga_instance.best_solution()[1]\n",
    "    print(\"Fitness    = {fitness}\".format(fitness=fitness))\n",
    "\n",
    "    if fitness == tmp:\n",
    "      cycles_stucked += 1\n",
    "      if dynamic_batch_size and cycles_stucked == max_cycles_stucked:\n",
    "        #increase batch size. Up until only 1 batch with all samples avaliable\n",
    "        make_batch(min(X_train_sgd.shape[1]+batch_increase, X_train_sgd.shape[0]*X_train_sgd.shape[1]))\n",
    "        print(\"Batch size increased -> new shape: \",X_train_sgd.shape)\n",
    "        k = numpy.random.randint(0, len(X_train_sgd)-1)\n",
    "        #Otherwise introduce_new_pop from cross over will never be True. \n",
    "        if not introduce_new_pop:\n",
    "          #keep track of cycles stucked\n",
    "          cycles_stucked = 0\n",
    "    else:\n",
    "      cycles_stucked = 0\n",
    "\n",
    "    #keep track of generation\n",
    "    i += 1\n",
    "    if sgd_like == True:\n",
    "      if i % (1 * epoch) == 0:\n",
    "        #select random data from reshaped dataset to train\n",
    "        k = numpy.random.randint(0, len(X_train_sgd)-1)\n",
    "\n",
    "    #update tmp\n",
    "    tmp = fitness\n",
    "    \n",
    "#    if fitness >= 50:\n",
    "#      sgd_like = True"
   ]
  },
  {
   "cell_type": "markdown",
   "metadata": {
    "id": "8rfuRuDMuCfg"
   },
   "source": [
    "# Mini Run"
   ]
  },
  {
   "cell_type": "markdown",
   "metadata": {
    "id": "0ektLvZqDuT8"
   },
   "source": [
    "As observed, rate of accurate increase getting worse and woser. As if a log function. Indeed, it's when GA reached local optima. Although over time, GA will get of there (smh given enough time you can brute force AES), but by running the entire training set in its inital states can help develope a good \"seed\". "
   ]
  },
  {
   "cell_type": "code",
   "execution_count": null,
   "metadata": {
    "id": "u0e-_WFceeVS"
   },
   "outputs": [],
   "source": [
    "keras_ga = pygad.kerasga.KerasGA(model=model,\n",
    "                                 num_solutions=num_solution)\n",
    "\n",
    "\n",
    "# Prepare the PyGAD parameters. Check the documentation for more information: https://pygad.readthedocs.io/en/latest/README_pygad_ReadTheDocs.html#pygad-ga-class\n",
    "# Use the pre-existing model weight as init population. \n",
    "initial_population = numpy.tile(pygad.kerasga.model_weights_as_vector(model), (num_solution, 1))\n",
    "\n",
    "\n",
    "ga_instance = pygad.GA(num_generations=num_generations,\n",
    "                       num_parents_mating=num_parents_mating,\n",
    "                       initial_population=initial_population,\n",
    "                       fitness_func=fitness_func,\n",
    "                       keep_parents=keep_parents,\n",
    "                       mutation_type=mutation_type,\n",
    "                       parent_selection_type=parent_selection_type,\n",
    "                       crossover_type=crossover_func,\n",
    "                       mutation_num_genes=mutation_num_genes,\n",
    "                       on_generation=callback_generation)\n",
    "                       #stop_criteria='reach_85')\n",
    "\n",
    "ga_instance.run()"
   ]
  },
  {
   "cell_type": "markdown",
   "metadata": {
    "id": "KQYVcXPuuFMx"
   },
   "source": [
    "# Stat"
   ]
  },
  {
   "cell_type": "code",
   "execution_count": 113,
   "metadata": {
    "id": "gKFLa_wLeeVT"
   },
   "outputs": [
    {
     "data": {
      "image/png": "[encoded data removed]",
      "text/plain": [
       "<Figure size 432x288 with 1 Axes>"
      ]
     },
     "metadata": {
      "needs_background": "light"
     },
     "output_type": "display_data"
    },
    {
     "name": "stdout",
     "output_type": "stream",
     "text": [
      "5217991.0\n",
      "5199733.0\n",
      "5318983.0\n",
      "5190616.5\n",
      "5090856.0\n",
      "40376520.0\n",
      "5054819.0\n",
      "5018910.5\n",
      "5090856.0\n",
      "5263776.0\n",
      "8112736.5\n",
      "5355947.5\n",
      "5108922.0\n",
      "5045830.0\n",
      "5018910.5\n",
      "5154228.0\n",
      "5282146.0\n",
      "4956380.5\n",
      "5108922.0\n",
      "5780615.0\n",
      "Fitness value of the best solution = 2.0176013524385387e-07\n",
      "Index of the best solution : 17\n"
     ]
    }
   ],
   "source": [
    "\n",
    "# After the generations complete, some plots are showed that summarize how the outputs/fitness values evolve over generations.\n",
    "ga_instance.plot_fitness(title=\"PyGAD & Keras - Iteration vs. Fitness\", linewidth=4)\n",
    "\n",
    "# Returning the details of the best solution.\n",
    "solution, solution_fitness, solution_idx = ga_instance.best_solution()\n",
    "print(\"Fitness value of the best solution = {solution_fitness}\".format(solution_fitness=solution_fitness))\n",
    "print(\"Index of the best solution : {solution_idx}\".format(solution_idx=solution_idx))\n",
    "\n",
    "# Fetch the parameters of the best solution.\n",
    "best_solution_weights = pygad.kerasga.model_weights_as_matrix(model=model,\n",
    "                                                              weights_vector=solution)\n",
    "model.set_weights(best_solution_weights)\n",
    "\n",
    "#remove if using acc matrix as fitness instead])\n",
    "#acc_meter.update_state(tf.argmax(model.predict(X_test), axis=1), tf.argmax(y_test, axis=1))\n",
    "#print(\"Accuracy on testing set:{acc}%\".format(acc=acc_meter.result().numpy()*100))\n",
    "#print(\"Error rate on testing set:{err}%\".format(err=(1-acc_meter.result().numpy())*100))\n",
    "\n",
    "#acc_meter.update_state(tf.argmax(model.predict(X_train), axis=1), y_train)\n",
    "#print(\"Accuracy on training set:{acc}%\".format(acc=acc_meter.result().numpy()*100))\n",
    "#print(\"Error rate on training set:{err}%\".format(err=(1-acc_meter.result().numpy())*100))"
   ]
  },
  {
   "cell_type": "code",
   "execution_count": 114,
   "metadata": {},
   "outputs": [
    {
     "name": "stdout",
     "output_type": "stream",
     "text": [
      "Accuracy on testing set:93.96799802780151%\n",
      "Error rate on testing set:6.032001972198486%\n",
      "Accuracy on training set:86.73856854438782%\n",
      "Error rate on training set:13.261431455612183%\n"
     ]
    }
   ],
   "source": [
    "acc_meter.update_state(tf.argmax(model.predict(X_test), axis=1), tf.argmax(y_test, axis=1))\n",
    "print(\"Accuracy on testing set:{acc}%\".format(acc=acc_meter.result().numpy()*100))\n",
    "print(\"Error rate on testing set:{err}%\".format(err=(1-acc_meter.result().numpy())*100))\n",
    "acc_meter.update_state(tf.argmax(model.predict(X_train), axis=1), tf.argmax(y_train, axis=1))\n",
    "print(\"Accuracy on training set:{acc}%\".format(acc=acc_meter.result().numpy()*100))\n",
    "print(\"Error rate on training set:{err}%\".format(err=(1-acc_meter.result().numpy())*100))"
   ]
  },
  {
   "cell_type": "code",
   "execution_count": null,
   "metadata": {},
   "outputs": [],
   "source": []
  }
 ],
 "metadata": {
  "colab": {
   "collapsed_sections": [],
   "name": "Copy_of_kerasGA.ipynb",
   "provenance": []
  },
  "kernelspec": {
   "display_name": "Python 3",
   "language": "python",
   "name": "python3"
  },
  "language_info": {
   "codemirror_mode": {
    "name": "ipython",
    "version": 3
   },
   "file_extension": ".py",
   "mimetype": "text/x-python",
   "name": "python",
   "nbconvert_exporter": "python",
   "pygments_lexer": "ipython3",
   "version": "3.8.3"
  }
 },
 "nbformat": 4,
 "nbformat_minor": 4
}
